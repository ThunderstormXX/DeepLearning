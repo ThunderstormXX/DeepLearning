{
  "cells": [
    {
      "cell_type": "markdown",
      "metadata": {
        "id": "IFTMJ2v-5YpN"
      },
      "source": [
        "# Homework 2. Training networks in PyTorch\n",
        "\n",
        "Это домашнее задание посвящено отработки навыков по написанию и обучению нейронных сетей. Ваше задание реализовать обучение нейронной сети и выполнить задания по анализу сети в конце ноутбука. Удачи!\n",
        "\n",
        "<font color='red'> **Дедлайн 4 октября 23:59 (жесткий)**  </font>"
      ]
    },
    {
      "cell_type": "markdown",
      "metadata": {
        "id": "i3dj1mfT5Yp4"
      },
      "source": [
        "### Data loading in pytorch"
      ]
    },
    {
      "cell_type": "code",
      "execution_count": 1,
      "metadata": {
        "id": "UKLLAvNt5Yp5"
      },
      "outputs": [],
      "source": [
        "import torch\n",
        "import torch.nn as nn\n",
        "import torch.nn.functional as F\n",
        "import numpy as np\n",
        "import torch.optim as optim\n",
        "import torch.utils.data"
      ]
    },
    {
      "cell_type": "code",
      "execution_count": 2,
      "metadata": {
        "id": "h626FYAm5Yp6"
      },
      "outputs": [],
      "source": [
        "from matplotlib import pyplot as plt\n",
        "%matplotlib inline"
      ]
    },
    {
      "cell_type": "markdown",
      "metadata": {
        "id": "_2oqonVb5Yp7"
      },
      "source": [
        "You will works with a MNIST dataset. It contains grayscale images of handwritten digits of size 28 x 28. The number of training objects is 60000.\n",
        "\n",
        "\n",
        "In pytorch, there is a special module to download MNIST. But for us it is more convinient to load the data ourselves."
      ]
    },
    {
      "cell_type": "code",
      "execution_count": 3,
      "metadata": {
        "id": "3vZ3StbV5Yp7"
      },
      "outputs": [],
      "source": [
        "from utils import load_mnist"
      ]
    },
    {
      "cell_type": "code",
      "execution_count": 4,
      "metadata": {
        "id": "bOxvlgne5Yp9"
      },
      "outputs": [],
      "source": [
        "X_train, y_train, X_test, y_test = load_mnist()"
      ]
    },
    {
      "cell_type": "markdown",
      "metadata": {
        "id": "4q6eiPbL5Yp-"
      },
      "source": [
        "The code below prepares short data (train and val) for seminar purposes (use this data to quickly learn model on CPU and to tune the hyperparameters). Also, we prepare the full data (train_full and test) to train a final model."
      ]
    },
    {
      "cell_type": "code",
      "execution_count": 5,
      "metadata": {
        "id": "0IJS2adK5Yp_",
        "outputId": "be9d80dc-2484-4c7b-ffad-d82b84692f91"
      },
      "outputs": [
        {
          "data": {
            "text/plain": [
              "(60000, 1, 28, 28)"
            ]
          },
          "execution_count": 5,
          "metadata": {},
          "output_type": "execute_result"
        }
      ],
      "source": [
        "# shuffle data\n",
        "np.random.seed(0)\n",
        "idxs = np.random.permutation(np.arange(X_train.shape[0]))\n",
        "X_train, y_train = X_train[idxs], y_train[idxs]\n",
        "\n",
        "X_train.shape"
      ]
    },
    {
      "cell_type": "markdown",
      "metadata": {
        "id": "dYzxQ2Mf5Yp_"
      },
      "source": [
        "Pytorch offers convinient class DataLoader for mini batch generation. You should pass instance of Tensor Dataset to it."
      ]
    },
    {
      "cell_type": "code",
      "execution_count": 6,
      "metadata": {
        "id": "oOmqt8aE5Yp_"
      },
      "outputs": [
        {
          "name": "stderr",
          "output_type": "stream",
          "text": [
            "/tmp/ipykernel_368293/2761436466.py:3: UserWarning: The given NumPy array is not writable, and PyTorch does not support non-writable tensors. This means writing to this tensor will result in undefined behavior. You may want to copy the array to protect its data or make it writable before converting it to a tensor. This type of warning will be suppressed for the rest of this program. (Triggered internally at ../torch/csrc/utils/tensor_numpy.cpp:206.)\n",
            "  torch.from_numpy(y).long())\n"
          ]
        }
      ],
      "source": [
        "def get_loader(X, y, batch_size=64):\n",
        "    train = torch.utils.data.TensorDataset(torch.from_numpy(X).float(),\n",
        "                                       torch.from_numpy(y).long())\n",
        "    train_loader = torch.utils.data.DataLoader(train,\n",
        "                                               batch_size=batch_size)\n",
        "    return train_loader\n",
        "\n",
        "# for final model:\n",
        "train_loader_full = get_loader(X_train, y_train)\n",
        "test_loader = get_loader(X_test, y_test)\n",
        "# for validation purposes:\n",
        "train_loader = get_loader(X_train[:15000], y_train[:15000])\n",
        "val_loader = get_loader(X_train[15000:30000], y_train[15000:30000])"
      ]
    },
    {
      "cell_type": "code",
      "execution_count": 7,
      "metadata": {
        "id": "bOfwqdwJ5YqA",
        "outputId": "f41c6b2c-c1fe-48b6-8382-e5980d16d843"
      },
      "outputs": [
        {
          "data": {
            "text/plain": [
              "torch.Size([15000, 1, 28, 28])"
            ]
          },
          "execution_count": 7,
          "metadata": {},
          "output_type": "execute_result"
        }
      ],
      "source": [
        "# check number of objects\n",
        "val_loader.dataset.tensors[0].shape"
      ]
    },
    {
      "cell_type": "markdown",
      "metadata": {
        "id": "lRoL5vqr5YqB"
      },
      "source": [
        "### Building LeNet-5\n",
        "\n",
        "Convolutional layer (from Anton Osokin's presentation):\n",
        "![slide](https://github.com/nadiinchi/dl_labs/raw/master/convolution.png)"
      ]
    },
    {
      "cell_type": "markdown",
      "metadata": {
        "id": "0WokmLD85YqB"
      },
      "source": [
        "You need to implement Lenet-5:\n",
        "\n",
        "![Архитектура LeNet-5](https://www.researchgate.net/profile/Vladimir_Golovko3/publication/313808170/figure/fig3/AS:552880910618630@1508828489678/Architecture-of-LeNet-5.png)"
      ]
    },
    {
      "cell_type": "markdown",
      "metadata": {
        "id": "Lc-cF7o35YqD"
      },
      "source": [
        "Construct a network according to the image and code examples given above. Use ReLU nonlinearity (after all linear and convolutional layers). The network must support multiplying the number of convolutions in each convolutional layer by k.\n",
        "\n",
        "Please note that on the scheme the size of the image is 32 x 32 but in our code the size is 28 x 28.\n",
        "\n",
        "Do not apply softmax at the end of the forward pass!"
      ]
    },
    {
      "cell_type": "markdown",
      "metadata": {
        "id": "iWfeNQ9gPhXo"
      },
      "source": [
        "### <font color='red'>[TODO] Написание архитектуры Le-Net-5 </font>\n",
        "\n",
        "В этой части вам нужно реализовать архитектуру Le-Net-5, но учтите, что на вход изображения приходит 28x28.\n",
        "\n",
        "Для того, написать архитектуру используйте [nn.Conv2D](https://pytorch.org/docs/stable/generated/torch.nn.Conv2d.html), [nn.AvgPool2d](https://pytorch.org/docs/stable/generated/torch.nn.AvgPool2d.html), [nn.ReLU](https://pytorch.org/docs/stable/generated/torch.nn.ReLU.html). Ориентируйтесь на картинку сверху в реализации"
      ]
    },
    {
      "cell_type": "code",
      "execution_count": 154,
      "metadata": {
        "collapsed": true,
        "id": "k9AXOaVh5YqE"
      },
      "outputs": [],
      "source": [
        "class CNN(nn.Module):\n",
        "    def __init__(self, k=1):\n",
        "        super(CNN, self).__init__()\n",
        "        self.layer1 = nn.Sequential(\n",
        "            nn.Conv2d(1, 6, kernel_size=5, stride=1, padding=2),\n",
        "            # nn.BatchNorm2d(6),\n",
        "            nn.ReLU(),\n",
        "            nn.MaxPool2d(kernel_size = 2, stride = 2))\n",
        "        self.layer2 = nn.Sequential(\n",
        "            nn.Conv2d(6, 16, kernel_size=5, stride=1, padding=0),\n",
        "            # nn.BatchNorm2d(16),\n",
        "            nn.ReLU(),\n",
        "            nn.MaxPool2d(kernel_size = 2, stride = 2))\n",
        "        self.fc = nn.Linear(400, 120)\n",
        "        self.relu = nn.ReLU()\n",
        "        self.fc1 = nn.Linear(120, 84)\n",
        "        self.relu1 = nn.ReLU()\n",
        "        self.fc2 = nn.Linear(84, 10)\n",
        "\n",
        "    def forward(self, x):\n",
        "        x = self.layer1(x)  #;print(x.shape)\n",
        "        x = self.layer2(x) #;print(x.shape)\n",
        "        x = x.reshape(x.size(0), -1)\n",
        "        x = self.fc(x) #;print(x.shape)\n",
        "        x = self.relu(x) #;print(x.shape)\n",
        "        x = self.fc1(x) #;print(x.shape)\n",
        "        x = self.relu1(x) #;print(x.shape)\n",
        "        x = self.fc2(x) #;print(x.shape)\n",
        "        return x\n",
        "\n",
        "# class CNN(nn.Module):\n",
        "#     def __init__(self, k=1):\n",
        "#         super(CNN, self).__init__()\n",
        "#         self.conv1 = nn.Conv2d(in_channels=1, out_channels=6, kernel_size=(3,3))\n",
        "#         self.relu1 = nn.ReLU()\n",
        "#         self.pooling1 = nn.AvgPool2d(kernel_size=1, stride=1) # ВТФ, как сделать 14 на 14 со stride =2 ??\n",
        "        \n",
        "#         self.conv2 = nn.Conv2d(in_channels=6, out_channels=16, kernel_size=5)\n",
        "#         self.relu2 = nn.ReLU()\n",
        "#         self.pooling2 = nn.AvgPool2d(kernel_size=2, stride=2)\n",
        "        \n",
        "#         self.layer1 = nn.Linear(in_features=16*5*5, out_features=120) \n",
        "#         self.layer2 = nn.Linear(in_features=120, out_features=84)\n",
        "#         self.relu3 = nn.ReLU()\n",
        "#         self.layer3 = nn.Linear(in_features=84, out_features=10)\n",
        "\n",
        "#     def forward(self, x):\n",
        "#         x = self.pooling1(self.relu1(self.conv1(x))) ;print(x.size())\n",
        "#         x = self.pooling2(self.relu2(self.conv2(x))) ;print(x.size())\n",
        "#         x = x.view(x.size(0), -1)  ; print(x.size())# to 1 dim \n",
        "#         x = self.layer1(x); print(x.size())\n",
        "#         x = self.layer2(x);print(x.size())\n",
        "#         x = self.relu3(x);print(x.size())\n",
        "#         x = self.layer3(x);print(x.size())\n",
        "#         return x"
      ]
    },
    {
      "cell_type": "code",
      "execution_count": 155,
      "metadata": {
        "collapsed": true,
        "id": "DMqTaKi_5YqF"
      },
      "outputs": [],
      "source": [
        "cnn = CNN( )"
      ]
    },
    {
      "cell_type": "code",
      "execution_count": 156,
      "metadata": {
        "collapsed": true,
        "id": "JobCjm_Z5YqG"
      },
      "outputs": [
        {
          "data": {
            "text/plain": [
              "61706"
            ]
          },
          "execution_count": 156,
          "metadata": {},
          "output_type": "execute_result"
        }
      ],
      "source": [
        "def count_parameters(model):\n",
        "    return sum(param.data.numpy().size for param \\\n",
        "               in model.parameters() if param.requires_grad)\n",
        "\n",
        "count_parameters(cnn)"
      ]
    },
    {
      "cell_type": "markdown",
      "metadata": {
        "id": "p50aWdYI5YqG"
      },
      "source": [
        "### Training"
      ]
    },
    {
      "cell_type": "markdown",
      "metadata": {
        "id": "OO04799z5YqH"
      },
      "source": [
        "Let's define the loss function:"
      ]
    },
    {
      "cell_type": "code",
      "execution_count": 157,
      "metadata": {
        "collapsed": true,
        "id": "xeBFcssY5YqH"
      },
      "outputs": [],
      "source": [
        "criterion = nn.CrossEntropyLoss() # loss includes softmax\n"
      ]
    },
    {
      "cell_type": "code",
      "execution_count": 12,
      "metadata": {},
      "outputs": [],
      "source": [
        "cnn = CNN( )\n",
        "x = torch.randn(121,1, 28, 28)\n",
        "out = cnn.forward(x)\n",
        "# train_labels = torch.randn(121)\n",
        "\n",
        "# print(out.shape)\n",
        "# print(train_labels.shape)\n",
        "# # print(out.view(1,-1).shape)\n",
        "# # print(out.view(-1,10).shape)\n",
        "# print(criterion(out, train_labels.long()))"
      ]
    },
    {
      "cell_type": "code",
      "execution_count": 13,
      "metadata": {},
      "outputs": [],
      "source": [
        "# # Example of target with class indices\n",
        "# loss = nn.CrossEntropyLoss()\n",
        "# input = torch.randn(3, 5, requires_grad=True)\n",
        "# target = torch.empty(3, dtype=torch.long).random_(5)\n",
        "# print(input.shape)\n",
        "# print(target.shape)\n",
        "\n",
        "# output = loss(input, target)\n",
        "# print(output)\n",
        "# # Example of target with class probabilities\n",
        "# # input = torch.randn(6, 10, requires_grad=True)\n",
        "# # print(input.shape)\n",
        "# # inp = input.softmax(dim=0)\n",
        "# # print(inp.shape)\n",
        "# # output = loss(input, target)\n",
        "# # print(output)"
      ]
    },
    {
      "cell_type": "code",
      "execution_count": 106,
      "metadata": {},
      "outputs": [
        {
          "name": "stdout",
          "output_type": "stream",
          "text": [
            "tensor([[-1.3377,  0.7220, -0.7980,  0.0575,  0.0366, -0.0169, -0.2435,  1.6351,\n",
            "         -1.6315, -0.0152],\n",
            "        [-1.3192,  0.5660,  0.6348, -0.3952, -0.1305, -0.0081, -0.6950, -0.4764,\n",
            "          1.0116,  2.4914],\n",
            "        [-0.5184, -0.3634,  0.7521, -1.0506,  0.6276, -0.8695, -0.5964,  0.0771,\n",
            "          0.0690,  1.4731],\n",
            "        [-0.4069, -0.5440, -0.8986,  0.2239, -0.6545,  2.5965, -1.0422,  0.7993,\n",
            "         -0.1398,  0.2227],\n",
            "        [ 0.2114, -0.3445,  1.3141, -1.3190, -0.6682, -0.0740, -0.0212,  0.5821,\n",
            "         -0.9052, -0.8497],\n",
            "        [-1.0001,  0.7683,  0.2694,  0.6187, -1.8202,  1.5325,  0.0806, -0.5465,\n",
            "         -1.4437, -0.1429]])\n",
            "tensor([7, 9, 9, 5, 2, 5])\n",
            "torch.Size([6])\n"
          ]
        }
      ],
      "source": [
        "x = torch.randn(6 , 10 )\n",
        "print(x)\n",
        "y = x.argmax(dim=1)\n",
        "print(y)\n",
        "print(y.shape)\n",
        "\n"
      ]
    },
    {
      "cell_type": "markdown",
      "metadata": {
        "id": "500YiRwa5YqI"
      },
      "source": [
        "Also, define a device where to store the data and the model (cpu or gpu):"
      ]
    },
    {
      "cell_type": "code",
      "execution_count": 14,
      "metadata": {
        "collapsed": true,
        "id": "3HQo_6Kb5YqJ"
      },
      "outputs": [],
      "source": [
        "device = torch.device('cpu')\n",
        "# device = torch.device('cuda') # Uncomment this to run on GPU\n",
        "cnn = cnn.to(device)"
      ]
    },
    {
      "cell_type": "markdown",
      "metadata": {
        "id": "KK9sl8w_5YqK"
      },
      "source": [
        "During training, we will control the quality on the training and validation set. This produces duplicates of the code. That's why we will define a function evaluate_loss_acc to evaluate our model on different data sets. In the same manner, we define function train_epoch to perform one training epoch on traiing data. Please note that we will compute the training loss _after_ each epoch (not averaging it during epoch).\n",
        "\n",
        "In the propotypes, train and eval modes are noted. In our case, we don't need them (because we don't use neither dropout nor batch normalization). However, we will switch the regime so you can use this code in the future."
      ]
    },
    {
      "cell_type": "markdown",
      "metadata": {
        "id": "K-9aShtYQWkt"
      },
      "source": [
        "### <font color='red'>[TODO] Реализуйте функции обучение модели </font>\n",
        "\n",
        "В части вам нужно написать циклы обучения моделей, вы можете ориентировать на ноутбук семинара при их выполнении"
      ]
    },
    {
      "cell_type": "code",
      "execution_count": 15,
      "metadata": {
        "collapsed": true,
        "id": "5dQn4HuD5YqL"
      },
      "outputs": [],
      "source": [
        "def train_epoch(model, optimizer, train_loader, criterion, device):\n",
        "    \"\"\"\n",
        "    for each batch\n",
        "    performs forward and backward pass and parameters update\n",
        "\n",
        "    Input:\n",
        "    model: instance of model (example defined above)\n",
        "    optimizer: instance of optimizer (defined above)\n",
        "    train_loader: instance of DataLoader\n",
        "\n",
        "    Returns:\n",
        "    nothing\n",
        "\n",
        "    Do not forget to set net to train mode!\n",
        "    \"\"\"\n",
        "    ### your code here\n",
        "    model.train()\n",
        "    for it, traindata in enumerate(train_loader):\n",
        "        train_inputs, train_labels = traindata\n",
        "        train_inputs = train_inputs.to(device) \n",
        "        train_labels = train_labels.to(device)\n",
        "        train_labels = torch.squeeze(train_labels)\n",
        "\n",
        "        model.zero_grad()        \n",
        "        # train_inputs = train_inputs.permute(0,1,2,3)\n",
        "        # print(train_inputs.shape)\n",
        "        # print(train_inputs.t())\n",
        "        output = model(train_inputs)\n",
        "        # output = model(train_inputs.t()) # pay attention here!\n",
        "        # print(train_labels.shape)\n",
        "        loss = criterion(output, train_labels.long())\n",
        "        loss.backward()\n",
        "        optimizer.step()\n",
        "\n",
        "\n",
        "def evaluate_loss_acc(loader, model, criterion, device):\n",
        "    \"\"\"\n",
        "    Evaluates loss and accuracy on the whole dataset\n",
        "\n",
        "    Input:\n",
        "    loader:  instance of DataLoader\n",
        "    model: instance of model (examle defined above)\n",
        "\n",
        "    Returns:\n",
        "    (loss, accuracy)\n",
        "\n",
        "    Do not forget to set net to eval mode!\n",
        "    \"\"\"\n",
        "    ### your code here\n",
        "    model.eval()\n",
        "    total_acc = 0.0\n",
        "    total_loss = 0.0\n",
        "    total = 0.0\n",
        "    for it, data in enumerate(loader):\n",
        "        inputs, labels = data\n",
        "        inputs = inputs.to(device) \n",
        "        labels = labels.to(device)\n",
        "        labels = torch.squeeze(labels)\n",
        "\n",
        "        output = model(inputs) # pay attention here!\n",
        "        loss = criterion(output, labels.long())# + torch.norm(WW^T - I)\n",
        "        total_loss += loss.item()\n",
        "        # print(labels)\n",
        "        # calc testing acc        \n",
        "        # pred = output.view(-1) > 0.5\n",
        "        pred = output.argmax(dim=1)\n",
        "        correct = pred == labels.byte()\n",
        "        total_acc += torch.sum(correct).item() / len(correct)\n",
        "\n",
        "    total = it + 1\n",
        "    return total_loss / total, total_acc / total\n",
        "\n",
        "def train(model, opt, train_loader, test_loader, criterion, n_epochs, \\\n",
        "          device, verbose=True):\n",
        "    \"\"\"\n",
        "    Performs training of the model and prints progress\n",
        "\n",
        "    Input:\n",
        "    model: instance of model (example defined above)\n",
        "    opt: instance of optimizer\n",
        "    train_loader: instance of DataLoader\n",
        "    test_loader: instance of DataLoader (for evaluation)\n",
        "    n_epochs: int\n",
        "\n",
        "    Returns:\n",
        "    4 lists: train_log, train_acc_log, val_log, val_acc_log\n",
        "    with corresponding metrics per epoch\n",
        "    \"\"\"\n",
        "    train_log, train_acc_log = [], []\n",
        "    val_log, val_acc_log = [], []\n",
        "\n",
        "    for epoch in range(n_epochs):\n",
        "        train_epoch(model, opt, train_loader, criterion, device)\n",
        "        train_loss, train_acc = evaluate_loss_acc(train_loader,\n",
        "                                                  model, criterion,\n",
        "                                                  device)\n",
        "        val_loss, val_acc = evaluate_loss_acc(test_loader, model,\n",
        "                                              criterion, device)\n",
        "\n",
        "        train_log.append(train_loss)\n",
        "        train_acc_log.append(train_acc)\n",
        "\n",
        "        val_log.append(val_loss)\n",
        "        val_acc_log.append(val_acc)\n",
        "\n",
        "        if verbose:\n",
        "             print (('Epoch [%d/%d], Loss (train/test): %.4f/%.4f,'+\\\n",
        "               ' Acc (train/test): %.4f/%.4f' )\n",
        "                   %(epoch+1, n_epochs, \\\n",
        "                     train_loss, val_loss, train_acc, val_acc))\n",
        "\n",
        "    return train_log, train_acc_log, val_log, val_acc_log"
      ]
    },
    {
      "cell_type": "markdown",
      "metadata": {
        "id": "DIl21h4g5YqM"
      },
      "source": [
        "### <font color='red'>[TODO] Обучение модели </font>\n",
        "\n",
        "Train the neural network, using defined functions. Use Adam as an optimizer, learning_rate=0.001, number of epochs = 20. For hold out, use val_loader, not test_loader."
      ]
    },
    {
      "cell_type": "code",
      "execution_count": 160,
      "metadata": {
        "collapsed": true,
        "id": "g9Z-1m-45YqN"
      },
      "outputs": [
        {
          "name": "stdout",
          "output_type": "stream",
          "text": [
            "CPU times: user 5 µs, sys: 0 ns, total: 5 µs\n",
            "Wall time: 9.78 µs\n",
            "Epoch [1/20], Loss (train/test): 0.2497/0.2639, Acc (train/test): 0.9254/0.9225\n",
            "Epoch [2/20], Loss (train/test): 0.1514/0.1751, Acc (train/test): 0.9525/0.9441\n",
            "Epoch [3/20], Loss (train/test): 0.1076/0.1379, Acc (train/test): 0.9652/0.9561\n",
            "Epoch [4/20], Loss (train/test): 0.0838/0.1199, Acc (train/test): 0.9730/0.9626\n",
            "Epoch [5/20], Loss (train/test): 0.0633/0.1029, Acc (train/test): 0.9804/0.9678\n",
            "Epoch [6/20], Loss (train/test): 0.0508/0.0921, Acc (train/test): 0.9834/0.9727\n",
            "Epoch [7/20], Loss (train/test): 0.0410/0.0846, Acc (train/test): 0.9874/0.9749\n",
            "Epoch [8/20], Loss (train/test): 0.0360/0.0841, Acc (train/test): 0.9884/0.9751\n",
            "Epoch [9/20], Loss (train/test): 0.0321/0.0852, Acc (train/test): 0.9890/0.9743\n",
            "Epoch [10/20], Loss (train/test): 0.0290/0.0852, Acc (train/test): 0.9898/0.9755\n",
            "Epoch [11/20], Loss (train/test): 0.0316/0.0922, Acc (train/test): 0.9891/0.9741\n",
            "Epoch [12/20], Loss (train/test): 0.0252/0.0916, Acc (train/test): 0.9914/0.9742\n",
            "Epoch [13/20], Loss (train/test): 0.0200/0.0858, Acc (train/test): 0.9928/0.9772\n",
            "Epoch [14/20], Loss (train/test): 0.0221/0.0957, Acc (train/test): 0.9923/0.9750\n",
            "Epoch [15/20], Loss (train/test): 0.0314/0.1063, Acc (train/test): 0.9890/0.9745\n",
            "Epoch [16/20], Loss (train/test): 0.0299/0.1204, Acc (train/test): 0.9896/0.9707\n",
            "Epoch [17/20], Loss (train/test): 0.0208/0.1165, Acc (train/test): 0.9925/0.9730\n",
            "Epoch [18/20], Loss (train/test): 0.0248/0.1158, Acc (train/test): 0.9909/0.9740\n",
            "Epoch [19/20], Loss (train/test): 0.0288/0.1260, Acc (train/test): 0.9910/0.9738\n",
            "Epoch [20/20], Loss (train/test): 0.0226/0.1256, Acc (train/test): 0.9928/0.9744\n",
            "[0.2497146876251444, 0.15142216863150293, 0.10755682294356061, 0.08382156410432877, 0.06330562176856588, 0.05083159138745767, 0.041027207618103696, 0.03598311406788119, 0.032135368112791725, 0.02903616861291626, 0.03155437723456069, 0.02520061960069839, 0.019992912888645808, 0.022107881285805018, 0.03135687419773139, 0.02992930361949046, 0.020766069184731138, 0.024841901177739812, 0.028844567966223894, 0.022569973083421034] [0.9254432624113474, 0.9524601063829787, 0.9652260638297873, 0.9730053191489362, 0.9803856382978723, 0.9834441489361702, 0.9873670212765957, 0.9883643617021277, 0.9889627659574468, 0.9898271276595745, 0.989095744680851, 0.9914228723404256, 0.9928191489361702, 0.9922872340425531, 0.9889627659574468, 0.9896276595744681, 0.9924867021276595, 0.9908909574468086, 0.9910239361702128, 0.9928191489361702] [0.2638832370017437, 0.1751158503458855, 0.13794102499142608, 0.11985623241659808, 0.1029185515848246, 0.09206118127727445, 0.08464495857999205, 0.08409870499546858, 0.08516650181164609, 0.08516958536520759, 0.09219796543871547, 0.09159511357961976, 0.08579949924172438, 0.09570902878916426, 0.1063444850344627, 0.12044888068649402, 0.11648792077086252, 0.11582330094261511, 0.12597152573797119, 0.12562317937202913] [0.9224955673758866, 0.9441489361702128, 0.9561170212765957, 0.9626329787234043, 0.9678191489361702, 0.9726728723404255, 0.9748670212765957, 0.9750664893617021, 0.9743351063829787, 0.975531914893617, 0.9740913120567376, 0.9741578014184398, 0.9772163120567376, 0.9750221631205674, 0.9744902482269504, 0.9707003546099291, 0.9729609929078015, 0.9740248226950355, 0.973758865248227, 0.9744015957446809]\n"
          ]
        }
      ],
      "source": [
        "### your code here\n",
        "cnn = CNN()\n",
        "learning_rate = 0.001\n",
        "optimizer = optim.Adam(cnn.parameters(), lr=learning_rate)\n",
        "num_epochs = 20\n",
        "%time \n",
        "a, b, c, d = train(train_loader=train_loader, test_loader=val_loader, model=cnn, criterion=criterion,opt=optimizer, device=device, n_epochs=num_epochs)\n",
        "print( a ,b ,c ,d)"
      ]
    },
    {
      "cell_type": "markdown",
      "metadata": {
        "id": "tjpBaZ7fSiP7"
      },
      "source": [
        "### <font color='red'>[TODO] Проведите эксперименты с моделью </font>"
      ]
    },
    {
      "cell_type": "markdown",
      "metadata": {
        "id": "AE5cJCEc5Yqq"
      },
      "source": [
        "\n",
        "### Choosing  learning_rate and batch_size"
      ]
    },
    {
      "cell_type": "markdown",
      "metadata": {
        "id": "Z_plUpWK5Yqq"
      },
      "source": [
        "Plot accuracy on the training and testing set v. s. training epoch for different learning parameters: learning rate$ \\in \\{0.0001, 0.001, 0.01\\}$, batch size $\\in \\{64, 256\\}$.\n",
        "\n",
        "The best option is to plot training curves on the left graph and validation curves on the right graph with the shared y axis (use plt.ylim).\n",
        "\n",
        "How do learning rate and batch size affect the final quality of the model?"
      ]
    },
    {
      "cell_type": "code",
      "execution_count": 161,
      "metadata": {},
      "outputs": [
        {
          "name": "stdout",
          "output_type": "stream",
          "text": [
            "--------------------------------------- Learning Rate: 0.01, Batch Size: 64 --------------------------------------------------------\n",
            "CPU times: user 7 µs, sys: 0 ns, total: 7 µs\n",
            "Wall time: 12.9 µs\n",
            "Epoch [1/15], Loss (train/test): 0.1114/0.1394, Acc (train/test): 0.9660/0.9568\n",
            "Epoch [2/15], Loss (train/test): 0.0737/0.1145, Acc (train/test): 0.9762/0.9669\n",
            "Epoch [3/15], Loss (train/test): 0.0686/0.1266, Acc (train/test): 0.9773/0.9634\n",
            "Epoch [4/15], Loss (train/test): 0.0552/0.1209, Acc (train/test): 0.9826/0.9678\n",
            "Epoch [5/15], Loss (train/test): 0.0549/0.1230, Acc (train/test): 0.9835/0.9692\n",
            "Epoch [6/15], Loss (train/test): 0.0397/0.1072, Acc (train/test): 0.9875/0.9724\n",
            "Epoch [7/15], Loss (train/test): 0.0741/0.1733, Acc (train/test): 0.9791/0.9656\n",
            "Epoch [8/15], Loss (train/test): 0.0566/0.1461, Acc (train/test): 0.9847/0.9693\n",
            "Epoch [9/15], Loss (train/test): 0.0326/0.1151, Acc (train/test): 0.9901/0.9740\n",
            "Epoch [10/15], Loss (train/test): 0.0597/0.1768, Acc (train/test): 0.9828/0.9627\n",
            "Epoch [11/15], Loss (train/test): 0.0659/0.1586, Acc (train/test): 0.9813/0.9654\n",
            "Epoch [12/15], Loss (train/test): 0.0462/0.1694, Acc (train/test): 0.9856/0.9662\n",
            "Epoch [13/15], Loss (train/test): 0.0698/0.1789, Acc (train/test): 0.9800/0.9628\n",
            "Epoch [14/15], Loss (train/test): 0.0328/0.1450, Acc (train/test): 0.9904/0.9695\n",
            "Epoch [15/15], Loss (train/test): 0.0453/0.1791, Acc (train/test): 0.9878/0.9664\n",
            "--------------------------------------- Learning Rate: 0.01, Batch Size: 256 --------------------------------------------------------\n",
            "CPU times: user 6 µs, sys: 0 ns, total: 6 µs\n",
            "Wall time: 13.4 µs\n",
            "Epoch [1/15], Loss (train/test): 0.1453/0.1552, Acc (train/test): 0.9581/0.9527\n",
            "Epoch [2/15], Loss (train/test): 0.0789/0.1028, Acc (train/test): 0.9746/0.9679\n",
            "Epoch [3/15], Loss (train/test): 0.0536/0.0852, Acc (train/test): 0.9820/0.9736\n",
            "Epoch [4/15], Loss (train/test): 0.0455/0.0845, Acc (train/test): 0.9851/0.9751\n",
            "Epoch [5/15], Loss (train/test): 0.0291/0.0760, Acc (train/test): 0.9911/0.9770\n",
            "Epoch [6/15], Loss (train/test): 0.0381/0.0955, Acc (train/test): 0.9881/0.9744\n",
            "Epoch [7/15], Loss (train/test): 0.0261/0.0769, Acc (train/test): 0.9925/0.9786\n",
            "Epoch [8/15], Loss (train/test): 0.0336/0.0951, Acc (train/test): 0.9893/0.9734\n",
            "Epoch [9/15], Loss (train/test): 0.0421/0.1174, Acc (train/test): 0.9862/0.9707\n",
            "Epoch [10/15], Loss (train/test): 0.0293/0.1074, Acc (train/test): 0.9901/0.9739\n",
            "Epoch [11/15], Loss (train/test): 0.0274/0.1058, Acc (train/test): 0.9911/0.9759\n",
            "Epoch [12/15], Loss (train/test): 0.0188/0.0838, Acc (train/test): 0.9942/0.9776\n",
            "Epoch [13/15], Loss (train/test): 0.0104/0.0839, Acc (train/test): 0.9963/0.9817\n",
            "Epoch [14/15], Loss (train/test): 0.0255/0.1231, Acc (train/test): 0.9928/0.9755\n",
            "Epoch [15/15], Loss (train/test): 0.0250/0.1207, Acc (train/test): 0.9926/0.9766\n",
            "--------------------------------------- Learning Rate: 0.001, Batch Size: 64 --------------------------------------------------------\n",
            "CPU times: user 5 µs, sys: 0 ns, total: 5 µs\n",
            "Wall time: 8.34 µs\n",
            "Epoch [1/15], Loss (train/test): 0.2447/0.2569, Acc (train/test): 0.9271/0.9236\n",
            "Epoch [2/15], Loss (train/test): 0.1320/0.1528, Acc (train/test): 0.9596/0.9543\n",
            "Epoch [3/15], Loss (train/test): 0.0929/0.1200, Acc (train/test): 0.9711/0.9626\n",
            "Epoch [4/15], Loss (train/test): 0.0753/0.1054, Acc (train/test): 0.9757/0.9668\n",
            "Epoch [5/15], Loss (train/test): 0.0649/0.0986, Acc (train/test): 0.9789/0.9697\n",
            "Epoch [6/15], Loss (train/test): 0.0643/0.1007, Acc (train/test): 0.9789/0.9686\n",
            "Epoch [7/15], Loss (train/test): 0.0586/0.0987, Acc (train/test): 0.9800/0.9692\n",
            "Epoch [8/15], Loss (train/test): 0.0454/0.0892, Acc (train/test): 0.9852/0.9717\n",
            "Epoch [9/15], Loss (train/test): 0.0396/0.0868, Acc (train/test): 0.9874/0.9739\n",
            "Epoch [10/15], Loss (train/test): 0.0402/0.0965, Acc (train/test): 0.9868/0.9722\n",
            "Epoch [11/15], Loss (train/test): 0.0261/0.0845, Acc (train/test): 0.9911/0.9757\n",
            "Epoch [12/15], Loss (train/test): 0.0269/0.0905, Acc (train/test): 0.9907/0.9753\n",
            "Epoch [13/15], Loss (train/test): 0.0275/0.0968, Acc (train/test): 0.9908/0.9759\n",
            "Epoch [14/15], Loss (train/test): 0.0246/0.0984, Acc (train/test): 0.9919/0.9742\n",
            "Epoch [15/15], Loss (train/test): 0.0178/0.0881, Acc (train/test): 0.9937/0.9761\n",
            "--------------------------------------- Learning Rate: 0.001, Batch Size: 256 --------------------------------------------------------\n",
            "CPU times: user 5 µs, sys: 0 ns, total: 5 µs\n",
            "Wall time: 9.78 µs\n",
            "Epoch [1/15], Loss (train/test): 0.6056/0.6107, Acc (train/test): 0.7948/0.7906\n",
            "Epoch [2/15], Loss (train/test): 0.3073/0.3163, Acc (train/test): 0.9103/0.9047\n",
            "Epoch [3/15], Loss (train/test): 0.2060/0.2193, Acc (train/test): 0.9361/0.9329\n",
            "Epoch [4/15], Loss (train/test): 0.1516/0.1696, Acc (train/test): 0.9527/0.9477\n",
            "Epoch [5/15], Loss (train/test): 0.1223/0.1432, Acc (train/test): 0.9617/0.9550\n",
            "Epoch [6/15], Loss (train/test): 0.1071/0.1308, Acc (train/test): 0.9668/0.9597\n",
            "Epoch [7/15], Loss (train/test): 0.0987/0.1251, Acc (train/test): 0.9687/0.9608\n",
            "Epoch [8/15], Loss (train/test): 0.0850/0.1137, Acc (train/test): 0.9740/0.9650\n",
            "Epoch [9/15], Loss (train/test): 0.0739/0.1048, Acc (train/test): 0.9771/0.9680\n",
            "Epoch [10/15], Loss (train/test): 0.0677/0.1016, Acc (train/test): 0.9785/0.9690\n",
            "Epoch [11/15], Loss (train/test): 0.0628/0.0995, Acc (train/test): 0.9796/0.9700\n",
            "Epoch [12/15], Loss (train/test): 0.0581/0.0975, Acc (train/test): 0.9814/0.9712\n",
            "Epoch [13/15], Loss (train/test): 0.0526/0.0946, Acc (train/test): 0.9833/0.9723\n",
            "Epoch [14/15], Loss (train/test): 0.0488/0.0934, Acc (train/test): 0.9846/0.9730\n",
            "Epoch [15/15], Loss (train/test): 0.0453/0.0920, Acc (train/test): 0.9850/0.9736\n",
            "--------------------------------------- Learning Rate: 0.0001, Batch Size: 64 --------------------------------------------------------\n",
            "CPU times: user 4 µs, sys: 0 ns, total: 4 µs\n",
            "Wall time: 7.63 µs\n",
            "Epoch [1/15], Loss (train/test): 0.8906/0.8915, Acc (train/test): 0.7628/0.7661\n",
            "Epoch [2/15], Loss (train/test): 0.4835/0.4867, Acc (train/test): 0.8582/0.8571\n",
            "Epoch [3/15], Loss (train/test): 0.3905/0.3963, Acc (train/test): 0.8831/0.8808\n",
            "Epoch [4/15], Loss (train/test): 0.3402/0.3484, Acc (train/test): 0.8978/0.8947\n",
            "Epoch [5/15], Loss (train/test): 0.3044/0.3151, Acc (train/test): 0.9099/0.9050\n",
            "Epoch [6/15], Loss (train/test): 0.2766/0.2892, Acc (train/test): 0.9180/0.9119\n",
            "Epoch [7/15], Loss (train/test): 0.2533/0.2673, Acc (train/test): 0.9240/0.9178\n",
            "Epoch [8/15], Loss (train/test): 0.2327/0.2480, Acc (train/test): 0.9291/0.9236\n",
            "Epoch [9/15], Loss (train/test): 0.2143/0.2307, Acc (train/test): 0.9344/0.9295\n",
            "Epoch [10/15], Loss (train/test): 0.1978/0.2153, Acc (train/test): 0.9404/0.9337\n",
            "Epoch [11/15], Loss (train/test): 0.1830/0.2016, Acc (train/test): 0.9446/0.9374\n",
            "Epoch [12/15], Loss (train/test): 0.1697/0.1894, Acc (train/test): 0.9486/0.9404\n",
            "Epoch [13/15], Loss (train/test): 0.1578/0.1787, Acc (train/test): 0.9519/0.9442\n",
            "Epoch [14/15], Loss (train/test): 0.1472/0.1692, Acc (train/test): 0.9557/0.9468\n",
            "Epoch [15/15], Loss (train/test): 0.1377/0.1606, Acc (train/test): 0.9587/0.9498\n",
            "--------------------------------------- Learning Rate: 0.0001, Batch Size: 256 --------------------------------------------------------\n",
            "CPU times: user 7 µs, sys: 0 ns, total: 7 µs\n",
            "Wall time: 12.9 µs\n",
            "Epoch [1/15], Loss (train/test): 2.2697/2.2701, Acc (train/test): 0.3223/0.3158\n",
            "Epoch [2/15], Loss (train/test): 2.0299/2.0312, Acc (train/test): 0.5730/0.5722\n",
            "Epoch [3/15], Loss (train/test): 1.2468/1.2454, Acc (train/test): 0.7198/0.7246\n",
            "Epoch [4/15], Loss (train/test): 0.7505/0.7500, Acc (train/test): 0.7923/0.7924\n",
            "Epoch [5/15], Loss (train/test): 0.5845/0.5859, Acc (train/test): 0.8332/0.8288\n",
            "Epoch [6/15], Loss (train/test): 0.4996/0.5025, Acc (train/test): 0.8573/0.8546\n",
            "Epoch [7/15], Loss (train/test): 0.4459/0.4500, Acc (train/test): 0.8730/0.8689\n",
            "Epoch [8/15], Loss (train/test): 0.4067/0.4120, Acc (train/test): 0.8835/0.8789\n",
            "Epoch [9/15], Loss (train/test): 0.3758/0.3823, Acc (train/test): 0.8912/0.8884\n",
            "Epoch [10/15], Loss (train/test): 0.3508/0.3584, Acc (train/test): 0.8981/0.8955\n",
            "Epoch [11/15], Loss (train/test): 0.3298/0.3384, Acc (train/test): 0.9058/0.9015\n",
            "Epoch [12/15], Loss (train/test): 0.3117/0.3211, Acc (train/test): 0.9100/0.9059\n",
            "Epoch [13/15], Loss (train/test): 0.2959/0.3061, Acc (train/test): 0.9133/0.9103\n",
            "Epoch [14/15], Loss (train/test): 0.2817/0.2929, Acc (train/test): 0.9166/0.9133\n",
            "Epoch [15/15], Loss (train/test): 0.2689/0.2810, Acc (train/test): 0.9203/0.9171\n"
          ]
        }
      ],
      "source": [
        "learning_rates = [0.01, 0.001, 0.0001]\n",
        "batch_sizes = [64, 256]\n",
        "num_epochs = 15\n",
        "results = []\n",
        "\n",
        "for lr in learning_rates:\n",
        "    for batch_size in batch_sizes:\n",
        "        print('---------------------------------------',f\"Learning Rate: {lr}, Batch Size: {batch_size} --------------------------------------------------------\")\n",
        "        train_loader = get_loader(X_train[:15000], y_train[:15000] , batch_size=batch_size)\n",
        "        val_loader = get_loader(X_train[15000:30000], y_train[15000:30000], batch_size=batch_size)\n",
        "        cnn = CNN()\n",
        "        optimizer = optim.Adam(cnn.parameters(), lr=lr)\n",
        "        %time \n",
        "        loss_train, acc_train, loss_test, acc_test = train(train_loader=train_loader, test_loader=val_loader, model=cnn, criterion=criterion,opt=optimizer, device=device, n_epochs=num_epochs)\n",
        "        results.append([acc_test,loss_test ,acc_train ,loss_train]) \n"
      ]
    },
    {
      "cell_type": "code",
      "execution_count": 162,
      "metadata": {},
      "outputs": [
        {
          "name": "stdout",
          "output_type": "stream",
          "text": [
            "[0.01, 0.001, 0.0001]\n",
            "[64, 256]\n",
            "0.9663785460992909\n",
            "0.9766496152988404\n",
            "0.976063829787234\n",
            "0.9736249721231044\n",
            "0.9498005319148937\n",
            "0.9171010816235504\n"
          ]
        }
      ],
      "source": [
        "print(learning_rates )\n",
        "print(batch_sizes)\n",
        "for j in results :\n",
        "    print(j[0][-1])"
      ]
    },
    {
      "cell_type": "code",
      "execution_count": 163,
      "metadata": {},
      "outputs": [
        {
          "data": {
            "image/png": "[encoded data removed]",
            "text/plain": [
              "<Figure size 800x400 with 1 Axes>"
            ]
          },
          "metadata": {},
          "output_type": "display_data"
        },
        {
          "data": {
            "image/png": "[encoded data removed]",
            "text/plain": [
              "<Figure size 800x400 with 1 Axes>"
            ]
          },
          "metadata": {},
          "output_type": "display_data"
        },
        {
          "data": {
            "image/png": "[encoded data removed]",
            "text/plain": [
              "<Figure size 800x400 with 1 Axes>"
            ]
          },
          "metadata": {},
          "output_type": "display_data"
        }
      ],
      "source": [
        "import numpy as np\n",
        "import matplotlib.pyplot as plt\n",
        "\n",
        "\n",
        "\n",
        "pairs = [(results[i][0], results[i+1][0]) for i in range(0, len(results), 2)]\n",
        "\n",
        "for i in range(3) :\n",
        "    plt.figure(figsize =(8,4))\n",
        "    plt.plot(pairs[i][0] , color='red' , label='batchsize ='+ str(batch_sizes[0]))\n",
        "    plt.plot(pairs[i][1] , color='green' , label='batchsize ='+ str(batch_sizes[1]))\n",
        "    plt.legend()\n",
        "    plt.title(f'learning rate = {learning_rates[i]} ')\n",
        "    plt.ylabel('accuracy')\n",
        "    plt.xlabel('epoch')\n",
        "    plt.grid(True)\n",
        "    plt.show()\n",
        "\n"
      ]
    },
    {
      "attachments": {},
      "cell_type": "markdown",
      "metadata": {},
      "source": [
        "## TOP : lr = 0.01 , bath_size = 256"
      ]
    },
    {
      "cell_type": "markdown",
      "metadata": {
        "id": "oEG3Nu9w5Yqs"
      },
      "source": [
        "### Changing the architecture"
      ]
    },
    {
      "attachments": {},
      "cell_type": "markdown",
      "metadata": {
        "id": "IqMV5M1j5Yqs"
      },
      "source": [
        "Try to modify our architecture: increase the number of filters and to reduce the number of fully-connected layers.\n",
        "\n",
        "Insert numbers in the brackets:\n",
        "* LeNet-5 classic (6 and 16 convolutions):  training acc: ( 0.9254606657002676 )  validation acc: ( 0.9223105764942017 )\n",
        "* Number of convolutions x 4 (24 и 64 convolutions):  training acc: ( 0.9658508028545941 )  validation acc: ( 0.9588397636039251)\n",
        "* Removing fully connected layer: the previous network with 1 FC layer: training acc: (0.9256383809099019  )  validation acc: ( 0.9233036909009813 )\n",
        "    \n",
        "    "
      ]
    },
    {
      "attachments": {},
      "cell_type": "markdown",
      "metadata": {},
      "source": [
        "## Без модификаций с лушчими параметрами :"
      ]
    },
    {
      "cell_type": "code",
      "execution_count": 200,
      "metadata": {
        "collapsed": true,
        "id": "eqpd48i25Yqt"
      },
      "outputs": [
        {
          "name": "stdout",
          "output_type": "stream",
          "text": [
            "CPU times: user 4 µs, sys: 0 ns, total: 4 µs\n",
            "Wall time: 8.58 µs\n",
            "Epoch [1/20], Loss (train/test): 2.2368/2.2378, Acc (train/test): 0.4317/0.4222\n",
            "Epoch [2/20], Loss (train/test): 1.8882/1.8897, Acc (train/test): 0.5747/0.5743\n",
            "Epoch [3/20], Loss (train/test): 1.1621/1.1597, Acc (train/test): 0.7434/0.7451\n",
            "Epoch [4/20], Loss (train/test): 0.7445/0.7411, Acc (train/test): 0.7974/0.7999\n",
            "Epoch [5/20], Loss (train/test): 0.5818/0.5799, Acc (train/test): 0.8349/0.8344\n",
            "Epoch [6/20], Loss (train/test): 0.4986/0.4982, Acc (train/test): 0.8568/0.8566\n",
            "Epoch [7/20], Loss (train/test): 0.4490/0.4498, Acc (train/test): 0.8701/0.8691\n",
            "Epoch [8/20], Loss (train/test): 0.4152/0.4173, Acc (train/test): 0.8790/0.8786\n",
            "Epoch [9/20], Loss (train/test): 0.3895/0.3928, Acc (train/test): 0.8841/0.8856\n",
            "Epoch [10/20], Loss (train/test): 0.3686/0.3732, Acc (train/test): 0.8914/0.8914\n",
            "Epoch [11/20], Loss (train/test): 0.3506/0.3565, Acc (train/test): 0.8958/0.8962\n",
            "Epoch [12/20], Loss (train/test): 0.3349/0.3419, Acc (train/test): 0.9007/0.9003\n",
            "Epoch [13/20], Loss (train/test): 0.3209/0.3289, Acc (train/test): 0.9045/0.9036\n",
            "Epoch [14/20], Loss (train/test): 0.3083/0.3171, Acc (train/test): 0.9075/0.9073\n",
            "Epoch [15/20], Loss (train/test): 0.2966/0.3064, Acc (train/test): 0.9112/0.9105\n",
            "Epoch [16/20], Loss (train/test): 0.2859/0.2966, Acc (train/test): 0.9149/0.9126\n",
            "Epoch [17/20], Loss (train/test): 0.2759/0.2873, Acc (train/test): 0.9177/0.9165\n",
            "Epoch [18/20], Loss (train/test): 0.2665/0.2787, Acc (train/test): 0.9208/0.9183\n",
            "Epoch [19/20], Loss (train/test): 0.2577/0.2706, Acc (train/test): 0.9231/0.9208\n",
            "Epoch [20/20], Loss (train/test): 0.2493/0.2629, Acc (train/test): 0.9255/0.9223\n"
          ]
        }
      ],
      "source": [
        "learning_rate = 0.01\n",
        "batch_size = 256\n",
        "num_epochs = 20\n",
        "train_loader = get_loader(X_train[:15000], y_train[:15000] , batch_size=batch_size)\n",
        "test_loader = get_loader(X_train[15000:30000], y_train[15000:30000], batch_size=batch_size)\n",
        "cnn = CNN()\n",
        "optimizer = optim.Adam(cnn.parameters(), lr=lr)\n",
        "%time \n",
        "loss_train, acc_train, loss_test, acc_test = train(train_loader=train_loader, test_loader=test_loader, model=cnn, criterion=criterion,opt=optimizer, device=device, n_epochs=num_epochs)\n",
        "\n"
      ]
    },
    {
      "cell_type": "code",
      "execution_count": 201,
      "metadata": {},
      "outputs": [
        {
          "name": "stdout",
          "output_type": "stream",
          "text": [
            "0.9254606657002676 0.9223105764942017\n"
          ]
        }
      ],
      "source": [
        "print(acc_train[-1],acc_test[-1])"
      ]
    },
    {
      "attachments": {},
      "cell_type": "markdown",
      "metadata": {},
      "source": [
        "## Convolutions 24 and 64"
      ]
    },
    {
      "cell_type": "code",
      "execution_count": 202,
      "metadata": {},
      "outputs": [],
      "source": [
        "class CNN_2(nn.Module):\n",
        "    def __init__(self, k=1):\n",
        "        super(CNN_2, self).__init__()\n",
        "        self.layer1 = nn.Sequential(\n",
        "            nn.Conv2d(1, 24, kernel_size=5, stride=1, padding=2),\n",
        "            nn.ReLU(),\n",
        "            nn.MaxPool2d(kernel_size = 2, stride = 2))\n",
        "        self.layer2 = nn.Sequential(\n",
        "            nn.Conv2d(24, 64, kernel_size=5, stride=1, padding=0),\n",
        "            nn.ReLU(),\n",
        "            nn.MaxPool2d(kernel_size = 2, stride = 2))\n",
        "        self.fc = nn.Linear(1600, 120)\n",
        "        self.relu = nn.ReLU()\n",
        "        self.fc1 = nn.Linear(120, 84)\n",
        "        self.relu1 = nn.ReLU()\n",
        "        self.fc2 = nn.Linear(84, 10)\n",
        "\n",
        "    def forward(self, x):\n",
        "        x = self.layer1(x)  #;print(x.shape)\n",
        "        x = self.layer2(x) #;print(x.shape)\n",
        "        x = x.reshape(x.size(0), -1)\n",
        "        x = self.fc(x) #;print(x.shape)\n",
        "        x = self.relu(x) #;print(x.shape)\n",
        "        x = self.fc1(x) #;print(x.shape)\n",
        "        x = self.relu1(x) #;print(x.shape)\n",
        "        x = self.fc2(x) #;print(x.shape)\n",
        "        return x"
      ]
    },
    {
      "cell_type": "code",
      "execution_count": 203,
      "metadata": {},
      "outputs": [
        {
          "data": {
            "text/plain": [
              "tensor([[-0.0127,  0.0442, -0.0764,  0.1870, -0.0828,  0.0847,  0.0602, -0.0193,\n",
              "         -0.0495, -0.0883]], grad_fn=<AddmmBackward0>)"
            ]
          },
          "execution_count": 203,
          "metadata": {},
          "output_type": "execute_result"
        }
      ],
      "source": [
        "model_mod = CNN_2()\n",
        "x = torch.randn(1,1,28,28)\n",
        "model_mod.forward(x)"
      ]
    },
    {
      "cell_type": "code",
      "execution_count": 204,
      "metadata": {},
      "outputs": [
        {
          "name": "stdout",
          "output_type": "stream",
          "text": [
            "CPU times: user 5 µs, sys: 0 ns, total: 5 µs\n",
            "Wall time: 11 µs\n",
            "Epoch [1/20], Loss (train/test): 2.0366/2.0360, Acc (train/test): 0.5213/0.5169\n",
            "Epoch [2/20], Loss (train/test): 0.9387/0.9347, Acc (train/test): 0.7639/0.7665\n",
            "Epoch [3/20], Loss (train/test): 0.5389/0.5395, Acc (train/test): 0.8484/0.8431\n",
            "Epoch [4/20], Loss (train/test): 0.4135/0.4168, Acc (train/test): 0.8826/0.8788\n",
            "Epoch [5/20], Loss (train/test): 0.3506/0.3557, Acc (train/test): 0.8995/0.8941\n",
            "Epoch [6/20], Loss (train/test): 0.3116/0.3183, Acc (train/test): 0.9092/0.9058\n",
            "Epoch [7/20], Loss (train/test): 0.2820/0.2900, Acc (train/test): 0.9170/0.9159\n",
            "Epoch [8/20], Loss (train/test): 0.2564/0.2656, Acc (train/test): 0.9250/0.9215\n",
            "Epoch [9/20], Loss (train/test): 0.2336/0.2441, Acc (train/test): 0.9308/0.9270\n",
            "Epoch [10/20], Loss (train/test): 0.2144/0.2260, Acc (train/test): 0.9360/0.9318\n",
            "Epoch [11/20], Loss (train/test): 0.1980/0.2105, Acc (train/test): 0.9415/0.9365\n",
            "Epoch [12/20], Loss (train/test): 0.1838/0.1971, Acc (train/test): 0.9454/0.9403\n",
            "Epoch [13/20], Loss (train/test): 0.1714/0.1854, Acc (train/test): 0.9483/0.9439\n",
            "Epoch [14/20], Loss (train/test): 0.1600/0.1749, Acc (train/test): 0.9518/0.9474\n",
            "Epoch [15/20], Loss (train/test): 0.1501/0.1658, Acc (train/test): 0.9540/0.9492\n",
            "Epoch [16/20], Loss (train/test): 0.1411/0.1576, Acc (train/test): 0.9569/0.9515\n",
            "Epoch [17/20], Loss (train/test): 0.1330/0.1503, Acc (train/test): 0.9600/0.9541\n",
            "Epoch [18/20], Loss (train/test): 0.1255/0.1440, Acc (train/test): 0.9625/0.9559\n",
            "Epoch [19/20], Loss (train/test): 0.1187/0.1378, Acc (train/test): 0.9643/0.9575\n",
            "Epoch [20/20], Loss (train/test): 0.1127/0.1325, Acc (train/test): 0.9659/0.9588\n"
          ]
        }
      ],
      "source": [
        "learning_rate = 0.01\n",
        "batch_size = 256\n",
        "num_epochs = 20\n",
        "train_loader = get_loader(X_train[:15000], y_train[:15000] , batch_size=batch_size)\n",
        "test_loader = get_loader(X_train[15000:30000], y_train[15000:30000], batch_size=batch_size)\n",
        "cnn = CNN_2()\n",
        "optimizer = optim.Adam(cnn.parameters(), lr=lr)\n",
        "%time \n",
        "loss_train, acc_train, loss_test, acc_test = train(train_loader=train_loader, test_loader=test_loader, model=cnn, criterion=criterion,opt=optimizer, device=device, n_epochs=num_epochs)\n",
        "\n"
      ]
    },
    {
      "cell_type": "code",
      "execution_count": 205,
      "metadata": {},
      "outputs": [
        {
          "name": "stdout",
          "output_type": "stream",
          "text": [
            "0.9658508028545941 0.9588397636039251\n"
          ]
        }
      ],
      "source": [
        "print(acc_train[-1],acc_test[-1])"
      ]
    },
    {
      "attachments": {},
      "cell_type": "markdown",
      "metadata": {},
      "source": [
        "## 1 FC layer"
      ]
    },
    {
      "cell_type": "code",
      "execution_count": 211,
      "metadata": {},
      "outputs": [],
      "source": [
        "class CNN_3(nn.Module):\n",
        "    def __init__(self, k=1):\n",
        "        super(CNN_3, self).__init__()\n",
        "        self.layer1 = nn.Sequential(\n",
        "            nn.Conv2d(1, 6, kernel_size=5, stride=1, padding=2),\n",
        "            nn.ReLU(),\n",
        "            nn.MaxPool2d(kernel_size = 2, stride = 2))\n",
        "        self.layer2 = nn.Sequential(\n",
        "            nn.Conv2d(6, 16, kernel_size=5, stride=1, padding=0),\n",
        "            nn.ReLU(),\n",
        "            nn.MaxPool2d(kernel_size = 2, stride = 2))\n",
        "        self.fc = nn.Linear(400, 120)\n",
        "        self.relu = nn.ReLU()\n",
        "        self.fc1 = nn.Linear(120, 10)\n",
        "\n",
        "    def forward(self, x):\n",
        "        x = self.layer1(x)  #;print(x.shape)\n",
        "        x = self.layer2(x) #;print(x.shape)\n",
        "        x = x.reshape(x.size(0), -1)\n",
        "        x = self.fc(x) #;print(x.shape)\n",
        "        x = self.relu(x) #;print(x.shape)\n",
        "        x = self.fc1(x) #;print(x.shape)\n",
        "        return x"
      ]
    },
    {
      "cell_type": "code",
      "execution_count": 212,
      "metadata": {},
      "outputs": [
        {
          "data": {
            "text/plain": [
              "tensor([[ 0.1037,  0.0213,  0.0309, -0.0580,  0.0661,  0.1212,  0.1369,  0.0961,\n",
              "         -0.0727,  0.0952]], grad_fn=<AddmmBackward0>)"
            ]
          },
          "execution_count": 212,
          "metadata": {},
          "output_type": "execute_result"
        }
      ],
      "source": [
        "model_mod = CNN_2()\n",
        "x = torch.randn(1,1,28,28)\n",
        "model_mod.forward(x)"
      ]
    },
    {
      "cell_type": "code",
      "execution_count": 213,
      "metadata": {},
      "outputs": [
        {
          "name": "stdout",
          "output_type": "stream",
          "text": [
            "CPU times: user 4 µs, sys: 0 ns, total: 4 µs\n",
            "Wall time: 6.91 µs\n",
            "Epoch [1/20], Loss (train/test): 2.2200/2.2211, Acc (train/test): 0.5571/0.5451\n",
            "Epoch [2/20], Loss (train/test): 1.9097/1.9142, Acc (train/test): 0.6161/0.6101\n",
            "Epoch [3/20], Loss (train/test): 1.3144/1.3175, Acc (train/test): 0.7290/0.7284\n",
            "Epoch [4/20], Loss (train/test): 0.8430/0.8427, Acc (train/test): 0.7922/0.7943\n",
            "Epoch [5/20], Loss (train/test): 0.6241/0.6240, Acc (train/test): 0.8328/0.8336\n",
            "Epoch [6/20], Loss (train/test): 0.5199/0.5209, Acc (train/test): 0.8548/0.8531\n",
            "Epoch [7/20], Loss (train/test): 0.4608/0.4630, Acc (train/test): 0.8671/0.8671\n",
            "Epoch [8/20], Loss (train/test): 0.4218/0.4252, Acc (train/test): 0.8773/0.8761\n",
            "Epoch [9/20], Loss (train/test): 0.3930/0.3975, Acc (train/test): 0.8850/0.8842\n",
            "Epoch [10/20], Loss (train/test): 0.3702/0.3757, Acc (train/test): 0.8916/0.8901\n",
            "Epoch [11/20], Loss (train/test): 0.3510/0.3576, Acc (train/test): 0.8973/0.8952\n",
            "Epoch [12/20], Loss (train/test): 0.3346/0.3421, Acc (train/test): 0.9014/0.8995\n",
            "Epoch [13/20], Loss (train/test): 0.3202/0.3285, Acc (train/test): 0.9067/0.9033\n",
            "Epoch [14/20], Loss (train/test): 0.3072/0.3163, Acc (train/test): 0.9105/0.9069\n",
            "Epoch [15/20], Loss (train/test): 0.2954/0.3053, Acc (train/test): 0.9135/0.9106\n",
            "Epoch [16/20], Loss (train/test): 0.2847/0.2952, Acc (train/test): 0.9160/0.9134\n",
            "Epoch [17/20], Loss (train/test): 0.2748/0.2859, Acc (train/test): 0.9183/0.9158\n",
            "Epoch [18/20], Loss (train/test): 0.2654/0.2769, Acc (train/test): 0.9207/0.9181\n",
            "Epoch [19/20], Loss (train/test): 0.2564/0.2686, Acc (train/test): 0.9227/0.9213\n",
            "Epoch [20/20], Loss (train/test): 0.2481/0.2607, Acc (train/test): 0.9256/0.9233\n"
          ]
        }
      ],
      "source": [
        "learning_rate = 0.01\n",
        "batch_size = 256\n",
        "num_epochs = 20\n",
        "train_loader = get_loader(X_train[:15000], y_train[:15000] , batch_size=batch_size)\n",
        "test_loader = get_loader(X_train[15000:30000], y_train[15000:30000], batch_size=batch_size)\n",
        "cnn = CNN_3()\n",
        "optimizer = optim.Adam(cnn.parameters(), lr=lr)\n",
        "%time \n",
        "loss_train, acc_train, loss_test, acc_test = train(train_loader=train_loader, test_loader=test_loader, model=cnn, criterion=criterion,opt=optimizer, device=device, n_epochs=num_epochs)\n",
        "\n"
      ]
    },
    {
      "cell_type": "code",
      "execution_count": 215,
      "metadata": {},
      "outputs": [
        {
          "name": "stdout",
          "output_type": "stream",
          "text": [
            "0.9256383809099019 0.9233036909009813\n"
          ]
        }
      ],
      "source": [
        "print(acc_train[-1],acc_test[-1])"
      ]
    },
    {
      "cell_type": "markdown",
      "metadata": {
        "id": "yoX-g-5n5Yqu"
      },
      "source": [
        "Choose the learning rate, batch size and the architecture based on your experiments. Train a network on the full dataset and print accuracy on the full test set."
      ]
    },
    {
      "attachments": {},
      "cell_type": "markdown",
      "metadata": {},
      "source": [
        "## Training Лучшей сети на фулл датасете"
      ]
    },
    {
      "cell_type": "code",
      "execution_count": 208,
      "metadata": {},
      "outputs": [
        {
          "name": "stdout",
          "output_type": "stream",
          "text": [
            "CPU times: user 12 µs, sys: 0 ns, total: 12 µs\n",
            "Wall time: 20 µs\n",
            "Epoch [1/10], Loss (train/test): 0.3805/0.3640, Acc (train/test): 0.8921/0.8987\n",
            "Epoch [2/10], Loss (train/test): 0.2473/0.2345, Acc (train/test): 0.9273/0.9319\n",
            "Epoch [3/10], Loss (train/test): 0.1848/0.1736, Acc (train/test): 0.9453/0.9485\n",
            "Epoch [4/10], Loss (train/test): 0.1442/0.1339, Acc (train/test): 0.9576/0.9599\n",
            "Epoch [5/10], Loss (train/test): 0.1177/0.1077, Acc (train/test): 0.9653/0.9668\n",
            "Epoch [6/10], Loss (train/test): 0.0996/0.0902, Acc (train/test): 0.9707/0.9729\n",
            "Epoch [7/10], Loss (train/test): 0.0871/0.0782, Acc (train/test): 0.9738/0.9771\n",
            "Epoch [8/10], Loss (train/test): 0.0777/0.0696, Acc (train/test): 0.9763/0.9791\n",
            "Epoch [9/10], Loss (train/test): 0.0705/0.0632, Acc (train/test): 0.9788/0.9812\n",
            "Epoch [10/10], Loss (train/test): 0.0644/0.0579, Acc (train/test): 0.9806/0.9826\n"
          ]
        }
      ],
      "source": [
        "learning_rate = 0.01\n",
        "batch_size = 256\n",
        "num_epochs = 10\n",
        "train_loader = get_loader(X_train, y_train , batch_size=batch_size)\n",
        "test_loader = get_loader(X_test, y_test, batch_size=batch_size)\n",
        "top_model = CNN_2()\n",
        "optimizer = optim.Adam(top_model.parameters(), lr=lr)\n",
        "%time \n",
        "loss_train, acc_train, loss_test, acc_test = train(train_loader=train_loader, test_loader=test_loader, model=top_model, criterion=criterion,opt=optimizer, device=device, n_epochs=num_epochs)\n",
        "\n"
      ]
    },
    {
      "attachments": {},
      "cell_type": "markdown",
      "metadata": {},
      "source": [
        "## THE END"
      ]
    },
    {
      "cell_type": "code",
      "execution_count": 210,
      "metadata": {},
      "outputs": [
        {
          "data": {
            "text/plain": [
              "242222"
            ]
          },
          "execution_count": 210,
          "metadata": {},
          "output_type": "execute_result"
        }
      ],
      "source": [
        "count_parameters(top_model)"
      ]
    },
    {
      "attachments": {},
      "cell_type": "markdown",
      "metadata": {},
      "source": [
        "## Фанимся "
      ]
    },
    {
      "cell_type": "code",
      "execution_count": 221,
      "metadata": {},
      "outputs": [
        {
          "name": "stdout",
          "output_type": "stream",
          "text": [
            "torch.Size([1, 1, 28, 28])\n",
            "tensor([5])\n"
          ]
        },
        {
          "data": {
            "image/png": "[encoded data removed]",
            "text/plain": [
              "<Figure size 640x480 with 1 Axes>"
            ]
          },
          "metadata": {},
          "output_type": "display_data"
        }
      ],
      "source": [
        "\n",
        "from PIL import Image\n",
        "import torchvision.transforms as transforms\n",
        "image_path = \"drawn_image.png\"\n",
        "image = Image.open(image_path)\n",
        "transform = transforms.Compose([\n",
        "    transforms.Grayscale(num_output_channels=1),  # Преобразовать в черно-белое изображение\n",
        "    transforms.Resize((28, 28)),  # Изменить размер до 28x28\n",
        "    transforms.ToTensor(),  # Преобразовать в тензор\n",
        "])\n",
        "input = transform(image)\n",
        "input = input.unsqueeze(0)\n",
        "input = input.to(device) \n",
        "output = top_model(input)\n",
        "pred = output.argmax(dim=1)\n",
        "print(input.shape)\n",
        "print(pred)\n",
        "pixels_array = input[0][0].numpy()\n",
        "plt.imshow(pixels_array, cmap='gray')  # cmap='gray' для отображения в черно-белой палитре\n",
        "plt.axis('off')  # Отключаем оси\n",
        "plt.show()\n"
      ]
    },
    {
      "attachments": {},
      "cell_type": "markdown",
      "metadata": {},
      "source": [
        "##  Я думал, что нужно самому придумывать модификации, а не писать то ,что написано в списке так что то, что дальше не относится к заданию"
      ]
    },
    {
      "attachments": {},
      "cell_type": "markdown",
      "metadata": {},
      "source": [
        "# Реализуем модификации нашей CNN "
      ]
    },
    {
      "attachments": {},
      "cell_type": "markdown",
      "metadata": {},
      "source": [
        "## 1) Попробуем добавить слой (увеличили сложность модели раз в 6)"
      ]
    },
    {
      "cell_type": "code",
      "execution_count": 39,
      "metadata": {},
      "outputs": [],
      "source": [
        "class CNN_mod_1(nn.Module):\n",
        "    def __init__(self ):\n",
        "        super(CNN_mod_1, self).__init__()\n",
        "        self.layer1 = nn.Sequential(\n",
        "            nn.Conv2d(1, 6, kernel_size=5, stride=1, padding=2),\n",
        "            nn.BatchNorm2d(6),\n",
        "            nn.ReLU(),\n",
        "            nn.MaxPool2d(kernel_size = 2, stride = 2))\n",
        "        self.layer2 = nn.Sequential(\n",
        "            nn.Conv2d(6, 16, kernel_size=5, stride=1, padding=0),\n",
        "            nn.BatchNorm2d(16),\n",
        "            nn.ReLU(),\n",
        "            nn.MaxPool2d(kernel_size = 2, stride = 2))\n",
        "        self.fc = nn.Linear(400, 500)\n",
        "        self.relu = nn.ReLU()\n",
        "        self.fc1 = nn.Linear(500, 120)\n",
        "        self.relu1 = nn.ReLU()\n",
        "        self.fc2 = nn.Linear(120, 84)\n",
        "        self.relu2 = nn.ReLU()\n",
        "        self.fc3 = nn.Linear(84, 10)\n",
        "\n",
        "    def forward(self, x):\n",
        "        x = self.layer1(x)  #;print(x.shape)\n",
        "        x = self.layer2(x) #;print(x.shape)\n",
        "        x = x.reshape(x.size(0), -1)\n",
        "        x = self.fc(x) #;print(x.shape)\n",
        "        x = self.relu(x) #;print(x.shape)\n",
        "        x = self.fc1(x) #;print(x.shape)\n",
        "        x = self.relu1(x) #;print(x.shape)\n",
        "        x = self.fc2(x) #;print(x.shape)\n",
        "        x = self.relu2(x) #;print(x.shape)\n",
        "        x = self.fc3(x) #;print(x.shape)\n",
        "        return x"
      ]
    },
    {
      "cell_type": "code",
      "execution_count": 35,
      "metadata": {},
      "outputs": [
        {
          "data": {
            "text/plain": [
              "tensor([[-0.0209, -0.1515,  0.2316,  0.0397, -0.0003,  0.0262, -0.1195,  0.0543,\n",
              "         -0.0293,  0.2522]], grad_fn=<AddmmBackward0>)"
            ]
          },
          "execution_count": 35,
          "metadata": {},
          "output_type": "execute_result"
        }
      ],
      "source": [
        "model_mod = CNN_mod_1()\n",
        "x = torch.randn(1,1,28,28)\n",
        "model_mod.forward(x)"
      ]
    },
    {
      "cell_type": "code",
      "execution_count": 36,
      "metadata": {},
      "outputs": [
        {
          "data": {
            "text/plain": [
              "274250"
            ]
          },
          "execution_count": 36,
          "metadata": {},
          "output_type": "execute_result"
        }
      ],
      "source": [
        "count_parameters(model_mod)"
      ]
    },
    {
      "cell_type": "code",
      "execution_count": 38,
      "metadata": {},
      "outputs": [
        {
          "name": "stdout",
          "output_type": "stream",
          "text": [
            "CPU times: user 6 µs, sys: 0 ns, total: 6 µs\n",
            "Wall time: 13.1 µs\n",
            "Epoch [1/15], Loss (train/test): 0.0964/0.0896, Acc (train/test): 0.9693/0.9704\n",
            "Epoch [2/15], Loss (train/test): 0.0491/0.0481, Acc (train/test): 0.9848/0.9850\n",
            "Epoch [3/15], Loss (train/test): 0.0371/0.0399, Acc (train/test): 0.9886/0.9873\n",
            "Epoch [4/15], Loss (train/test): 0.0301/0.0369, Acc (train/test): 0.9906/0.9885\n",
            "Epoch [5/15], Loss (train/test): 0.0248/0.0357, Acc (train/test): 0.9919/0.9890\n",
            "Epoch [6/15], Loss (train/test): 0.0366/0.0515, Acc (train/test): 0.9884/0.9848\n",
            "Epoch [7/15], Loss (train/test): 0.0185/0.0353, Acc (train/test): 0.9941/0.9898\n",
            "Epoch [8/15], Loss (train/test): 0.0213/0.0408, Acc (train/test): 0.9930/0.9870\n",
            "Epoch [9/15], Loss (train/test): 0.0186/0.0449, Acc (train/test): 0.9938/0.9879\n",
            "Epoch [10/15], Loss (train/test): 0.0159/0.0389, Acc (train/test): 0.9947/0.9888\n",
            "Epoch [11/15], Loss (train/test): 0.0114/0.0364, Acc (train/test): 0.9963/0.9897\n",
            "Epoch [12/15], Loss (train/test): 0.0118/0.0388, Acc (train/test): 0.9959/0.9887\n",
            "Epoch [13/15], Loss (train/test): 0.0096/0.0407, Acc (train/test): 0.9966/0.9896\n",
            "Epoch [14/15], Loss (train/test): 0.0086/0.0398, Acc (train/test): 0.9971/0.9897\n",
            "Epoch [15/15], Loss (train/test): 0.0101/0.0399, Acc (train/test): 0.9968/0.9896\n"
          ]
        }
      ],
      "source": [
        "model_mod = CNN_mod_1()\n",
        "learning_rate = 0.001\n",
        "batch_size = 256\n",
        "num_epochs = 15\n",
        "train_loader = get_loader(X_train, y_train , batch_size=batch_size)\n",
        "test_loader = get_loader(X_test, y_test, batch_size=batch_size)\n",
        "model_mod = CNN_mod_1()\n",
        "optimizer = optim.Adam(model_mod.parameters(), lr=learning_rate)\n",
        "%time \n",
        "loss_train, acc_train, loss_test, acc_test = train(train_loader=train_loader, test_loader=test_loader, model=model_mod, criterion=criterion,opt=optimizer, device=device, n_epochs=num_epochs)\n"
      ]
    },
    {
      "attachments": {},
      "cell_type": "markdown",
      "metadata": {},
      "source": [
        "#### Итог : Большая модель - Быстро обучается на первых итерациях ,но потом как будто попадает в локальный минимум и ходит вокруг него"
      ]
    },
    {
      "attachments": {},
      "cell_type": "markdown",
      "metadata": {},
      "source": [
        "## 2) Поиграемся с ядрами"
      ]
    },
    {
      "cell_type": "code",
      "execution_count": 45,
      "metadata": {},
      "outputs": [],
      "source": [
        "class CNN_mod_2(nn.Module):\n",
        "    def __init__(self, k=1):\n",
        "        super(CNN_mod_2, self).__init__()\n",
        "        self.layer1 = nn.Sequential(\n",
        "            nn.Conv2d(1, 6, kernel_size=6, stride=1, padding=3),\n",
        "            nn.BatchNorm2d(6),\n",
        "            nn.ReLU(),\n",
        "            nn.MaxPool2d(kernel_size = 2, stride = 2))\n",
        "        self.layer2 = nn.Sequential(\n",
        "            nn.Conv2d(6, 16, kernel_size=6, stride=1, padding=1),\n",
        "            nn.BatchNorm2d(16),\n",
        "            nn.ReLU(),\n",
        "            nn.MaxPool2d(kernel_size = 2, stride = 2))\n",
        "        self.fc = nn.Linear(400, 120)\n",
        "        self.relu = nn.ReLU()\n",
        "        self.fc1 = nn.Linear(120, 84)\n",
        "        self.relu1 = nn.ReLU()\n",
        "        self.fc2 = nn.Linear(84, 10)\n",
        "\n",
        "    def forward(self, x):\n",
        "        x = self.layer1(x)  #;print(x.shape)\n",
        "        x = self.layer2(x) #;print(x.shape)\n",
        "        x = x.reshape(x.size(0), -1)\n",
        "        x = self.fc(x) #;print(x.shape)\n",
        "        x = self.relu(x) #;print(x.shape)\n",
        "        x = self.fc1(x) #;print(x.shape)\n",
        "        x = self.relu1(x) #;print(x.shape)\n",
        "        x = self.fc2(x) #;print(x.shape)\n",
        "        return x"
      ]
    },
    {
      "cell_type": "code",
      "execution_count": 46,
      "metadata": {},
      "outputs": [
        {
          "data": {
            "text/plain": [
              "tensor([[ 0.1868, -0.1192, -0.1200,  0.0018,  0.0913,  0.0054, -0.0222,  0.1994,\n",
              "         -0.0927, -0.2084]], grad_fn=<AddmmBackward0>)"
            ]
          },
          "execution_count": 46,
          "metadata": {},
          "output_type": "execute_result"
        }
      ],
      "source": [
        "model_mod = CNN_mod_2()\n",
        "x = torch.randn(1,1,28,28)\n",
        "model_mod.forward(x)"
      ]
    },
    {
      "cell_type": "code",
      "execution_count": 47,
      "metadata": {},
      "outputs": [
        {
          "name": "stdout",
          "output_type": "stream",
          "text": [
            "CPU times: user 5 µs, sys: 1e+03 ns, total: 6 µs\n",
            "Wall time: 10.5 µs\n",
            "Epoch [1/15], Loss (train/test): 0.0817/0.0720, Acc (train/test): 0.9755/0.9780\n",
            "Epoch [2/15], Loss (train/test): 0.0498/0.0478, Acc (train/test): 0.9850/0.9854\n",
            "Epoch [3/15], Loss (train/test): 0.0406/0.0435, Acc (train/test): 0.9878/0.9852\n",
            "Epoch [4/15], Loss (train/test): 0.0398/0.0468, Acc (train/test): 0.9872/0.9831\n",
            "Epoch [5/15], Loss (train/test): 0.0347/0.0426, Acc (train/test): 0.9888/0.9853\n",
            "Epoch [6/15], Loss (train/test): 0.0257/0.0357, Acc (train/test): 0.9917/0.9880\n",
            "Epoch [7/15], Loss (train/test): 0.0294/0.0436, Acc (train/test): 0.9903/0.9850\n",
            "Epoch [8/15], Loss (train/test): 0.0256/0.0444, Acc (train/test): 0.9916/0.9855\n",
            "Epoch [9/15], Loss (train/test): 0.0188/0.0375, Acc (train/test): 0.9939/0.9885\n",
            "Epoch [10/15], Loss (train/test): 0.0197/0.0377, Acc (train/test): 0.9937/0.9884\n",
            "Epoch [11/15], Loss (train/test): 0.0163/0.0354, Acc (train/test): 0.9946/0.9893\n",
            "Epoch [12/15], Loss (train/test): 0.0122/0.0308, Acc (train/test): 0.9959/0.9901\n",
            "Epoch [13/15], Loss (train/test): 0.0170/0.0411, Acc (train/test): 0.9942/0.9879\n",
            "Epoch [14/15], Loss (train/test): 0.0204/0.0463, Acc (train/test): 0.9929/0.9852\n",
            "Epoch [15/15], Loss (train/test): 0.0244/0.0520, Acc (train/test): 0.9919/0.9852\n"
          ]
        }
      ],
      "source": [
        "model_mod = CNN_mod_2()\n",
        "learning_rate = 0.001\n",
        "batch_size = 256\n",
        "num_epochs = 15\n",
        "train_loader = get_loader(X_train, y_train , batch_size=batch_size)\n",
        "test_loader = get_loader(X_test, y_test, batch_size=batch_size)\n",
        "model_mod = CNN_mod_2()\n",
        "optimizer = optim.Adam(model_mod.parameters(), lr=learning_rate)\n",
        "%time \n",
        "loss_train, acc_train, loss_test, acc_test = train(train_loader=train_loader, test_loader=test_loader, model=model_mod, criterion=criterion,opt=optimizer, device=device, n_epochs=num_epochs)\n"
      ]
    },
    {
      "attachments": {},
      "cell_type": "markdown",
      "metadata": {},
      "source": [
        "#### итог: После увеличения ядра ничего  не произошло, только обучалось дольше (())"
      ]
    },
    {
      "attachments": {},
      "cell_type": "markdown",
      "metadata": {},
      "source": [
        "## 3) Оставим измененне ядра , да еще увеличим ядра у пулингов , да еще слой добавим"
      ]
    },
    {
      "cell_type": "code",
      "execution_count": 115,
      "metadata": {},
      "outputs": [],
      "source": [
        "class CNN_mod_3(nn.Module):\n",
        "    def __init__(self, k=1):\n",
        "        super(CNN_mod_3, self).__init__()\n",
        "        self.layer1 = nn.Sequential(\n",
        "            nn.Conv2d(1, 6, kernel_size=5, stride=1, padding=2),\n",
        "            nn.BatchNorm2d(6),\n",
        "            nn.ReLU(),\n",
        "            nn.AvgPool2d(kernel_size = 2, stride = 2))\n",
        "        self.layer2 = nn.Sequential(\n",
        "            nn.Conv2d(6, 10, kernel_size=5, stride=1, padding=2),\n",
        "            nn.BatchNorm2d(10),\n",
        "            nn.ReLU(),\n",
        "            nn.AvgPool2d(kernel_size = 2, stride = 2))\n",
        "        self.layer3 = nn.Sequential(\n",
        "            nn.Conv2d(10, 16, kernel_size=3, stride=1, padding=3),\n",
        "            nn.BatchNorm2d(16),\n",
        "            nn.ReLU(),\n",
        "            nn.AvgPool2d(kernel_size = 2, stride = 2))\n",
        "        self.fc = nn.Linear(400, 120)\n",
        "        self.relu = nn.ReLU()\n",
        "        self.fc1 = nn.Linear(120, 84)\n",
        "        self.relu1 = nn.ReLU()\n",
        "        self.fc2 = nn.Linear(84, 10)\n",
        "\n",
        "    def forward(self, x):\n",
        "        x = self.layer1(x) # ;print(x.shape)\n",
        "        x = self.layer2(x) #;print(x.shape)\n",
        "        x = self.layer3(x) #;print(x.shape)\n",
        "        x = x.reshape(x.size(0), -1)\n",
        "        x = self.fc(x) #;print(x.shape)\n",
        "        x = self.relu(x) #;print(x.shape)\n",
        "        x = self.fc1(x) #;print(x.shape)\n",
        "        x = self.relu1(x) #;print(x.shape)\n",
        "        x = self.fc2(x) #;print(x.shape)\n",
        "        return x"
      ]
    },
    {
      "cell_type": "code",
      "execution_count": 73,
      "metadata": {},
      "outputs": [
        {
          "name": "stdout",
          "output_type": "stream",
          "text": [
            "torch.Size([1, 6, 14, 14])\n",
            "torch.Size([1, 16, 5, 5])\n",
            "torch.Size([1, 120])\n",
            "torch.Size([1, 120])\n",
            "torch.Size([1, 84])\n",
            "torch.Size([1, 84])\n",
            "torch.Size([1, 10])\n"
          ]
        },
        {
          "data": {
            "text/plain": [
              "tensor([[-0.0494, -0.0346, -0.1205, -0.0299,  0.0292,  0.1271, -0.0115,  0.0120,\n",
              "         -0.1133, -0.0241]], grad_fn=<AddmmBackward0>)"
            ]
          },
          "execution_count": 73,
          "metadata": {},
          "output_type": "execute_result"
        }
      ],
      "source": [
        "model_mod = CNN_mod_3()\n",
        "x = torch.randn(1,1,28,28)\n",
        "model_mod.forward(x)"
      ]
    },
    {
      "cell_type": "code",
      "execution_count": 113,
      "metadata": {},
      "outputs": [
        {
          "name": "stdout",
          "output_type": "stream",
          "text": [
            "torch.Size([1, 6, 14, 14])\n",
            "torch.Size([1, 10, 7, 7])\n",
            "torch.Size([1, 16, 5, 5])\n",
            "torch.Size([1, 120])\n",
            "torch.Size([1, 120])\n",
            "torch.Size([1, 84])\n",
            "torch.Size([1, 84])\n",
            "torch.Size([1, 10])\n"
          ]
        },
        {
          "data": {
            "text/plain": [
              "tensor([[-0.1038,  0.0103,  0.0218,  0.0245, -0.0264,  0.0678,  0.1328,  0.0036,\n",
              "         -0.0010, -0.0210]], grad_fn=<AddmmBackward0>)"
            ]
          },
          "execution_count": 113,
          "metadata": {},
          "output_type": "execute_result"
        }
      ],
      "source": [
        "model_mod = CNN_mod_3()\n",
        "x = torch.randn(1,1,28,28)\n",
        "model_mod.forward(x)"
      ]
    },
    {
      "cell_type": "code",
      "execution_count": 116,
      "metadata": {},
      "outputs": [
        {
          "name": "stdout",
          "output_type": "stream",
          "text": [
            "CPU times: user 4 µs, sys: 0 ns, total: 4 µs\n",
            "Wall time: 7.63 µs\n",
            "Epoch [1/15], Loss (train/test): 0.0914/0.0772, Acc (train/test): 0.9724/0.9750\n",
            "Epoch [2/15], Loss (train/test): 0.0618/0.0534, Acc (train/test): 0.9806/0.9818\n",
            "Epoch [3/15], Loss (train/test): 0.0541/0.0470, Acc (train/test): 0.9833/0.9844\n",
            "Epoch [4/15], Loss (train/test): 0.0496/0.0450, Acc (train/test): 0.9841/0.9857\n",
            "Epoch [5/15], Loss (train/test): 0.0413/0.0399, Acc (train/test): 0.9868/0.9871\n",
            "Epoch [6/15], Loss (train/test): 0.0341/0.0351, Acc (train/test): 0.9889/0.9886\n",
            "Epoch [7/15], Loss (train/test): 0.0353/0.0360, Acc (train/test): 0.9885/0.9884\n",
            "Epoch [8/15], Loss (train/test): 0.0394/0.0408, Acc (train/test): 0.9871/0.9879\n",
            "Epoch [9/15], Loss (train/test): 0.0376/0.0414, Acc (train/test): 0.9877/0.9878\n",
            "Epoch [10/15], Loss (train/test): 0.0385/0.0425, Acc (train/test): 0.9875/0.9875\n",
            "Epoch [11/15], Loss (train/test): 0.0307/0.0370, Acc (train/test): 0.9896/0.9893\n",
            "Epoch [12/15], Loss (train/test): 0.0293/0.0366, Acc (train/test): 0.9902/0.9887\n",
            "Epoch [13/15], Loss (train/test): 0.0214/0.0286, Acc (train/test): 0.9930/0.9904\n",
            "Epoch [14/15], Loss (train/test): 0.0220/0.0307, Acc (train/test): 0.9925/0.9902\n",
            "Epoch [15/15], Loss (train/test): 0.0171/0.0268, Acc (train/test): 0.9942/0.9909\n"
          ]
        }
      ],
      "source": [
        "learning_rate = 0.001\n",
        "batch_size = 256\n",
        "num_epochs = 15\n",
        "train_loader = get_loader(X_train, y_train , batch_size=batch_size)\n",
        "test_loader = get_loader(X_test, y_test, batch_size=batch_size)\n",
        "model_mod = CNN_mod_3()\n",
        "optimizer = optim.Adam(model_mod.parameters(), lr=learning_rate)\n",
        "%time \n",
        "loss_train, acc_train, loss_test, acc_test = train(train_loader=train_loader, test_loader=test_loader, model=model_mod, criterion=criterion,opt=optimizer, device=device, n_epochs=num_epochs)\n"
      ]
    },
    {
      "attachments": {},
      "cell_type": "markdown",
      "metadata": {},
      "source": [
        "### Итог: после добавления еще одного сверточного слоя , модель почти дошла до accuracy 99.1 %"
      ]
    },
    {
      "attachments": {},
      "cell_type": "markdown",
      "metadata": {},
      "source": [
        "## 4 ) Раз так , то увеличим число слоев ( раз увлеичили число сверток, то нужно большее число слоев для их анализа )"
      ]
    },
    {
      "cell_type": "code",
      "execution_count": 117,
      "metadata": {},
      "outputs": [],
      "source": [
        "class CNN_mod_4(nn.Module):\n",
        "    def __init__(self, k=1):\n",
        "        super(CNN_mod_4, self).__init__()\n",
        "        self.layer1 = nn.Sequential(\n",
        "            nn.Conv2d(1, 6, kernel_size=5, stride=1, padding=2),\n",
        "            nn.BatchNorm2d(6),\n",
        "            nn.ReLU(),\n",
        "            nn.AvgPool2d(kernel_size = 2, stride = 2))\n",
        "        self.layer2 = nn.Sequential(\n",
        "            nn.Conv2d(6, 10, kernel_size=5, stride=1, padding=2),\n",
        "            nn.BatchNorm2d(10),\n",
        "            nn.ReLU(),\n",
        "            nn.AvgPool2d(kernel_size = 2, stride = 2))\n",
        "        self.layer3 = nn.Sequential(\n",
        "            nn.Conv2d(10, 16, kernel_size=3, stride=1, padding=3),\n",
        "            nn.BatchNorm2d(16),\n",
        "            nn.ReLU(),\n",
        "            nn.AvgPool2d(kernel_size = 2, stride = 2))\n",
        "        self.fc = nn.Linear(400, 150)\n",
        "        self.relu = nn.ReLU()\n",
        "        self.fc1 = nn.Linear(150, 100)\n",
        "        self.relu1 = nn.ReLU()\n",
        "        self.fc2 = nn.Linear(100, 10)\n",
        "\n",
        "    def forward(self, x):\n",
        "        x = self.layer1(x) # ;print(x.shape)\n",
        "        x = self.layer2(x) #;print(x.shape)\n",
        "        x = self.layer3(x) #;print(x.shape)\n",
        "        x = x.reshape(x.size(0), -1)\n",
        "        x = self.fc(x) #;print(x.shape)\n",
        "        x = self.relu(x) #;print(x.shape)\n",
        "        x = self.fc1(x) #;print(x.shape)\n",
        "        x = self.relu1(x) #;print(x.shape)\n",
        "        x = self.fc2(x) #;print(x.shape)\n",
        "        return x"
      ]
    },
    {
      "cell_type": "code",
      "execution_count": 119,
      "metadata": {},
      "outputs": [
        {
          "data": {
            "text/plain": [
              "tensor([[ 0.0027,  0.0192,  0.0206,  0.1518, -0.1500,  0.0328,  0.0345,  0.0494,\n",
              "          0.0854,  0.0445]], grad_fn=<AddmmBackward0>)"
            ]
          },
          "execution_count": 119,
          "metadata": {},
          "output_type": "execute_result"
        }
      ],
      "source": [
        "model_mod = CNN_mod_4()\n",
        "x = torch.randn(1,1,28,28)\n",
        "model_mod.forward(x)"
      ]
    },
    {
      "cell_type": "code",
      "execution_count": 120,
      "metadata": {},
      "outputs": [
        {
          "name": "stdout",
          "output_type": "stream",
          "text": [
            "CPU times: user 4 µs, sys: 1e+03 ns, total: 5 µs\n",
            "Wall time: 8.58 µs\n",
            "Epoch [1/15], Loss (train/test): 0.0979/0.0867, Acc (train/test): 0.9716/0.9736\n",
            "Epoch [2/15], Loss (train/test): 0.0807/0.0720, Acc (train/test): 0.9755/0.9776\n",
            "Epoch [3/15], Loss (train/test): 0.0674/0.0616, Acc (train/test): 0.9792/0.9798\n",
            "Epoch [4/15], Loss (train/test): 0.0518/0.0480, Acc (train/test): 0.9843/0.9851\n",
            "Epoch [5/15], Loss (train/test): 0.0436/0.0417, Acc (train/test): 0.9864/0.9862\n",
            "Epoch [6/15], Loss (train/test): 0.0471/0.0451, Acc (train/test): 0.9846/0.9854\n",
            "Epoch [7/15], Loss (train/test): 0.0487/0.0472, Acc (train/test): 0.9838/0.9856\n",
            "Epoch [8/15], Loss (train/test): 0.0402/0.0409, Acc (train/test): 0.9863/0.9871\n",
            "Epoch [9/15], Loss (train/test): 0.0301/0.0339, Acc (train/test): 0.9900/0.9893\n",
            "Epoch [10/15], Loss (train/test): 0.0268/0.0340, Acc (train/test): 0.9914/0.9895\n",
            "Epoch [11/15], Loss (train/test): 0.0232/0.0327, Acc (train/test): 0.9925/0.9895\n",
            "Epoch [12/15], Loss (train/test): 0.0231/0.0336, Acc (train/test): 0.9927/0.9890\n",
            "Epoch [13/15], Loss (train/test): 0.0257/0.0382, Acc (train/test): 0.9916/0.9885\n",
            "Epoch [14/15], Loss (train/test): 0.0285/0.0420, Acc (train/test): 0.9906/0.9877\n",
            "Epoch [15/15], Loss (train/test): 0.0218/0.0371, Acc (train/test): 0.9928/0.9886\n"
          ]
        }
      ],
      "source": [
        "learning_rate = 0.001\n",
        "batch_size = 256\n",
        "num_epochs = 15\n",
        "train_loader = get_loader(X_train, y_train , batch_size=batch_size)\n",
        "test_loader = get_loader(X_test, y_test, batch_size=batch_size)\n",
        "model_mod = CNN_mod_4()\n",
        "optimizer = optim.Adam(model_mod.parameters(), lr=learning_rate)\n",
        "%time \n",
        "loss_train, acc_train, loss_test, acc_test = train(train_loader=train_loader, test_loader=test_loader, model=model_mod, criterion=criterion,opt=optimizer, device=device, n_epochs=num_epochs)\n"
      ]
    },
    {
      "attachments": {},
      "cell_type": "markdown",
      "metadata": {},
      "source": [
        "#### Видно модель переобучилась (loss train сильно меньше loss test)"
      ]
    },
    {
      "cell_type": "code",
      "execution_count": null,
      "metadata": {},
      "outputs": [],
      "source": []
    }
  ],
  "metadata": {
    "colab": {
      "provenance": []
    },
    "kernelspec": {
      "display_name": "Python 3",
      "language": "python",
      "name": "python3"
    },
    "language_info": {
      "codemirror_mode": {
        "name": "ipython",
        "version": 3
      },
      "file_extension": ".py",
      "mimetype": "text/x-python",
      "name": "python",
      "nbconvert_exporter": "python",
      "pygments_lexer": "ipython3",
      "version": "3.8.16"
    }
  },
  "nbformat": 4,
  "nbformat_minor": 0
}
