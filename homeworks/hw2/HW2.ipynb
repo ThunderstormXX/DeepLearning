{
  "cells": [
    {
      "cell_type": "markdown",
      "metadata": {
        "id": "IFTMJ2v-5YpN"
      },
      "source": [
        "# Homework 2. Training networks in PyTorch\n",
        "\n",
        "Это домашнее задание посвящено отработки навыков по написанию и обучению нейронных сетей. Ваше задание реализовать обучение нейронной сети и выполнить задания по анализу сети в конце ноутбука. Удачи!\n",
        "\n",
        "<font color='red'> **Дедлайн 4 октября 23:59 (жесткий)**  </font>"
      ]
    },
    {
      "cell_type": "markdown",
      "metadata": {
        "id": "i3dj1mfT5Yp4"
      },
      "source": [
        "### Data loading in pytorch"
      ]
    },
    {
      "cell_type": "code",
      "execution_count": 1,
      "metadata": {
        "id": "UKLLAvNt5Yp5"
      },
      "outputs": [],
      "source": [
        "import torch\n",
        "import torch.nn as nn\n",
        "import torch.nn.functional as F\n",
        "import numpy as np\n",
        "import torch.optim as optim\n",
        "import torch.utils.data"
      ]
    },
    {
      "cell_type": "code",
      "execution_count": 2,
      "metadata": {
        "id": "h626FYAm5Yp6"
      },
      "outputs": [],
      "source": [
        "from matplotlib import pyplot as plt\n",
        "%matplotlib inline"
      ]
    },
    {
      "cell_type": "markdown",
      "metadata": {
        "id": "_2oqonVb5Yp7"
      },
      "source": [
        "You will works with a MNIST dataset. It contains grayscale images of handwritten digits of size 28 x 28. The number of training objects is 60000.\n",
        "\n",
        "\n",
        "In pytorch, there is a special module to download MNIST. But for us it is more convinient to load the data ourselves."
      ]
    },
    {
      "cell_type": "code",
      "execution_count": 3,
      "metadata": {
        "id": "3vZ3StbV5Yp7"
      },
      "outputs": [],
      "source": [
        "from utils import load_mnist"
      ]
    },
    {
      "cell_type": "code",
      "execution_count": 4,
      "metadata": {
        "id": "bOxvlgne5Yp9"
      },
      "outputs": [],
      "source": [
        "X_train, y_train, X_test, y_test = load_mnist()"
      ]
    },
    {
      "cell_type": "markdown",
      "metadata": {
        "id": "4q6eiPbL5Yp-"
      },
      "source": [
        "The code below prepares short data (train and val) for seminar purposes (use this data to quickly learn model on CPU and to tune the hyperparameters). Also, we prepare the full data (train_full and test) to train a final model."
      ]
    },
    {
      "cell_type": "code",
      "execution_count": 5,
      "metadata": {
        "id": "0IJS2adK5Yp_",
        "outputId": "be9d80dc-2484-4c7b-ffad-d82b84692f91"
      },
      "outputs": [
        {
          "data": {
            "text/plain": [
              "(60000, 1, 28, 28)"
            ]
          },
          "execution_count": 5,
          "metadata": {},
          "output_type": "execute_result"
        }
      ],
      "source": [
        "# shuffle data\n",
        "np.random.seed(0)\n",
        "idxs = np.random.permutation(np.arange(X_train.shape[0]))\n",
        "X_train, y_train = X_train[idxs], y_train[idxs]\n",
        "\n",
        "X_train.shape"
      ]
    },
    {
      "cell_type": "markdown",
      "metadata": {
        "id": "dYzxQ2Mf5Yp_"
      },
      "source": [
        "Pytorch offers convinient class DataLoader for mini batch generation. You should pass instance of Tensor Dataset to it."
      ]
    },
    {
      "cell_type": "code",
      "execution_count": 6,
      "metadata": {
        "id": "oOmqt8aE5Yp_"
      },
      "outputs": [
        {
          "name": "stderr",
          "output_type": "stream",
          "text": [
            "/tmp/ipykernel_368293/2761436466.py:3: UserWarning: The given NumPy array is not writable, and PyTorch does not support non-writable tensors. This means writing to this tensor will result in undefined behavior. You may want to copy the array to protect its data or make it writable before converting it to a tensor. This type of warning will be suppressed for the rest of this program. (Triggered internally at ../torch/csrc/utils/tensor_numpy.cpp:206.)\n",
            "  torch.from_numpy(y).long())\n"
          ]
        }
      ],
      "source": [
        "def get_loader(X, y, batch_size=64):\n",
        "    train = torch.utils.data.TensorDataset(torch.from_numpy(X).float(),\n",
        "                                       torch.from_numpy(y).long())\n",
        "    train_loader = torch.utils.data.DataLoader(train,\n",
        "                                               batch_size=batch_size)\n",
        "    return train_loader\n",
        "\n",
        "# for final model:\n",
        "train_loader_full = get_loader(X_train, y_train)\n",
        "test_loader = get_loader(X_test, y_test)\n",
        "# for validation purposes:\n",
        "train_loader = get_loader(X_train[:15000], y_train[:15000])\n",
        "val_loader = get_loader(X_train[15000:30000], y_train[15000:30000])"
      ]
    },
    {
      "cell_type": "code",
      "execution_count": 7,
      "metadata": {
        "id": "bOfwqdwJ5YqA",
        "outputId": "f41c6b2c-c1fe-48b6-8382-e5980d16d843"
      },
      "outputs": [
        {
          "data": {
            "text/plain": [
              "torch.Size([15000, 1, 28, 28])"
            ]
          },
          "execution_count": 7,
          "metadata": {},
          "output_type": "execute_result"
        }
      ],
      "source": [
        "# check number of objects\n",
        "val_loader.dataset.tensors[0].shape"
      ]
    },
    {
      "cell_type": "markdown",
      "metadata": {
        "id": "lRoL5vqr5YqB"
      },
      "source": [
        "### Building LeNet-5\n",
        "\n",
        "Convolutional layer (from Anton Osokin's presentation):\n",
        "![slide](https://github.com/nadiinchi/dl_labs/raw/master/convolution.png)"
      ]
    },
    {
      "cell_type": "markdown",
      "metadata": {
        "id": "0WokmLD85YqB"
      },
      "source": [
        "You need to implement Lenet-5:\n",
        "\n",
        "![Архитектура LeNet-5](https://www.researchgate.net/profile/Vladimir_Golovko3/publication/313808170/figure/fig3/AS:552880910618630@1508828489678/Architecture-of-LeNet-5.png)"
      ]
    },
    {
      "cell_type": "markdown",
      "metadata": {
        "id": "Lc-cF7o35YqD"
      },
      "source": [
        "Construct a network according to the image and code examples given above. Use ReLU nonlinearity (after all linear and convolutional layers). The network must support multiplying the number of convolutions in each convolutional layer by k.\n",
        "\n",
        "Please note that on the scheme the size of the image is 32 x 32 but in our code the size is 28 x 28.\n",
        "\n",
        "Do not apply softmax at the end of the forward pass!"
      ]
    },
    {
      "cell_type": "markdown",
      "metadata": {
        "id": "iWfeNQ9gPhXo"
      },
      "source": [
        "### <font color='red'>[TODO] Написание архитектуры Le-Net-5 </font>\n",
        "\n",
        "В этой части вам нужно реализовать архитектуру Le-Net-5, но учтите, что на вход изображения приходит 28x28.\n",
        "\n",
        "Для того, написать архитектуру используйте [nn.Conv2D](https://pytorch.org/docs/stable/generated/torch.nn.Conv2d.html), [nn.AvgPool2d](https://pytorch.org/docs/stable/generated/torch.nn.AvgPool2d.html), [nn.ReLU](https://pytorch.org/docs/stable/generated/torch.nn.ReLU.html). Ориентируйтесь на картинку сверху в реализации"
      ]
    },
    {
      "cell_type": "code",
      "execution_count": 8,
      "metadata": {
        "collapsed": true,
        "id": "k9AXOaVh5YqE"
      },
      "outputs": [],
      "source": [
        "class CNN(nn.Module):\n",
        "    def __init__(self, k=1):\n",
        "        super(CNN, self).__init__()\n",
        "        self.layer1 = nn.Sequential(\n",
        "            nn.Conv2d(1, 6, kernel_size=5, stride=1, padding=2),\n",
        "            nn.BatchNorm2d(6),\n",
        "            nn.ReLU(),\n",
        "            nn.MaxPool2d(kernel_size = 2, stride = 2))\n",
        "        self.layer2 = nn.Sequential(\n",
        "            nn.Conv2d(6, 16, kernel_size=5, stride=1, padding=0),\n",
        "            nn.BatchNorm2d(16),\n",
        "            nn.ReLU(),\n",
        "            nn.MaxPool2d(kernel_size = 2, stride = 2))\n",
        "        self.fc = nn.Linear(400, 120)\n",
        "        self.relu = nn.ReLU()\n",
        "        self.fc1 = nn.Linear(120, 84)\n",
        "        self.relu1 = nn.ReLU()\n",
        "        self.fc2 = nn.Linear(84, 10)\n",
        "\n",
        "    def forward(self, x):\n",
        "        x = self.layer1(x)  #;print(x.shape)\n",
        "        x = self.layer2(x) #;print(x.shape)\n",
        "        x = x.reshape(x.size(0), -1)\n",
        "        x = self.fc(x) #;print(x.shape)\n",
        "        x = self.relu(x) #;print(x.shape)\n",
        "        x = self.fc1(x) #;print(x.shape)\n",
        "        x = self.relu1(x) #;print(x.shape)\n",
        "        x = self.fc2(x) #;print(x.shape)\n",
        "        return x\n",
        "\n",
        "# class CNN(nn.Module):\n",
        "#     def __init__(self, k=1):\n",
        "#         super(CNN, self).__init__()\n",
        "#         self.conv1 = nn.Conv2d(in_channels=1, out_channels=6, kernel_size=(3,3))\n",
        "#         self.relu1 = nn.ReLU()\n",
        "#         self.pooling1 = nn.AvgPool2d(kernel_size=1, stride=1) # ВТФ, как сделать 14 на 14 со stride =2 ??\n",
        "        \n",
        "#         self.conv2 = nn.Conv2d(in_channels=6, out_channels=16, kernel_size=5)\n",
        "#         self.relu2 = nn.ReLU()\n",
        "#         self.pooling2 = nn.AvgPool2d(kernel_size=2, stride=2)\n",
        "        \n",
        "#         self.layer1 = nn.Linear(in_features=16*5*5, out_features=120) \n",
        "#         self.layer2 = nn.Linear(in_features=120, out_features=84)\n",
        "#         self.relu3 = nn.ReLU()\n",
        "#         self.layer3 = nn.Linear(in_features=84, out_features=10)\n",
        "\n",
        "#     def forward(self, x):\n",
        "#         x = self.pooling1(self.relu1(self.conv1(x))) ;print(x.size())\n",
        "#         x = self.pooling2(self.relu2(self.conv2(x))) ;print(x.size())\n",
        "#         x = x.view(x.size(0), -1)  ; print(x.size())# to 1 dim \n",
        "#         x = self.layer1(x); print(x.size())\n",
        "#         x = self.layer2(x);print(x.size())\n",
        "#         x = self.relu3(x);print(x.size())\n",
        "#         x = self.layer3(x);print(x.size())\n",
        "#         return x"
      ]
    },
    {
      "cell_type": "code",
      "execution_count": 9,
      "metadata": {
        "collapsed": true,
        "id": "DMqTaKi_5YqF"
      },
      "outputs": [],
      "source": [
        "cnn = CNN( )"
      ]
    },
    {
      "cell_type": "code",
      "execution_count": 10,
      "metadata": {
        "collapsed": true,
        "id": "JobCjm_Z5YqG"
      },
      "outputs": [
        {
          "data": {
            "text/plain": [
              "61750"
            ]
          },
          "execution_count": 10,
          "metadata": {},
          "output_type": "execute_result"
        }
      ],
      "source": [
        "def count_parameters(model):\n",
        "    return sum(param.data.numpy().size for param \\\n",
        "               in model.parameters() if param.requires_grad)\n",
        "\n",
        "count_parameters(cnn)"
      ]
    },
    {
      "cell_type": "markdown",
      "metadata": {
        "id": "p50aWdYI5YqG"
      },
      "source": [
        "### Training"
      ]
    },
    {
      "cell_type": "markdown",
      "metadata": {
        "id": "OO04799z5YqH"
      },
      "source": [
        "Let's define the loss function:"
      ]
    },
    {
      "cell_type": "code",
      "execution_count": 11,
      "metadata": {
        "collapsed": true,
        "id": "xeBFcssY5YqH"
      },
      "outputs": [],
      "source": [
        "criterion = nn.CrossEntropyLoss() # loss includes softmax\n"
      ]
    },
    {
      "cell_type": "code",
      "execution_count": 12,
      "metadata": {},
      "outputs": [],
      "source": [
        "cnn = CNN( )\n",
        "x = torch.randn(121,1, 28, 28)\n",
        "out = cnn.forward(x)\n",
        "# train_labels = torch.randn(121)\n",
        "\n",
        "# print(out.shape)\n",
        "# print(train_labels.shape)\n",
        "# # print(out.view(1,-1).shape)\n",
        "# # print(out.view(-1,10).shape)\n",
        "# print(criterion(out, train_labels.long()))"
      ]
    },
    {
      "cell_type": "code",
      "execution_count": 13,
      "metadata": {},
      "outputs": [],
      "source": [
        "# # Example of target with class indices\n",
        "# loss = nn.CrossEntropyLoss()\n",
        "# input = torch.randn(3, 5, requires_grad=True)\n",
        "# target = torch.empty(3, dtype=torch.long).random_(5)\n",
        "# print(input.shape)\n",
        "# print(target.shape)\n",
        "\n",
        "# output = loss(input, target)\n",
        "# print(output)\n",
        "# # Example of target with class probabilities\n",
        "# # input = torch.randn(6, 10, requires_grad=True)\n",
        "# # print(input.shape)\n",
        "# # inp = input.softmax(dim=0)\n",
        "# # print(inp.shape)\n",
        "# # output = loss(input, target)\n",
        "# # print(output)"
      ]
    },
    {
      "cell_type": "code",
      "execution_count": 106,
      "metadata": {},
      "outputs": [
        {
          "name": "stdout",
          "output_type": "stream",
          "text": [
            "tensor([[-1.3377,  0.7220, -0.7980,  0.0575,  0.0366, -0.0169, -0.2435,  1.6351,\n",
            "         -1.6315, -0.0152],\n",
            "        [-1.3192,  0.5660,  0.6348, -0.3952, -0.1305, -0.0081, -0.6950, -0.4764,\n",
            "          1.0116,  2.4914],\n",
            "        [-0.5184, -0.3634,  0.7521, -1.0506,  0.6276, -0.8695, -0.5964,  0.0771,\n",
            "          0.0690,  1.4731],\n",
            "        [-0.4069, -0.5440, -0.8986,  0.2239, -0.6545,  2.5965, -1.0422,  0.7993,\n",
            "         -0.1398,  0.2227],\n",
            "        [ 0.2114, -0.3445,  1.3141, -1.3190, -0.6682, -0.0740, -0.0212,  0.5821,\n",
            "         -0.9052, -0.8497],\n",
            "        [-1.0001,  0.7683,  0.2694,  0.6187, -1.8202,  1.5325,  0.0806, -0.5465,\n",
            "         -1.4437, -0.1429]])\n",
            "tensor([7, 9, 9, 5, 2, 5])\n",
            "torch.Size([6])\n"
          ]
        }
      ],
      "source": [
        "x = torch.randn(6 , 10 )\n",
        "print(x)\n",
        "y = x.argmax(dim=1)\n",
        "print(y)\n",
        "print(y.shape)\n",
        "\n"
      ]
    },
    {
      "cell_type": "markdown",
      "metadata": {
        "id": "500YiRwa5YqI"
      },
      "source": [
        "Also, define a device where to store the data and the model (cpu or gpu):"
      ]
    },
    {
      "cell_type": "code",
      "execution_count": 14,
      "metadata": {
        "collapsed": true,
        "id": "3HQo_6Kb5YqJ"
      },
      "outputs": [],
      "source": [
        "device = torch.device('cpu')\n",
        "# device = torch.device('cuda') # Uncomment this to run on GPU\n",
        "cnn = cnn.to(device)"
      ]
    },
    {
      "cell_type": "markdown",
      "metadata": {
        "id": "KK9sl8w_5YqK"
      },
      "source": [
        "During training, we will control the quality on the training and validation set. This produces duplicates of the code. That's why we will define a function evaluate_loss_acc to evaluate our model on different data sets. In the same manner, we define function train_epoch to perform one training epoch on traiing data. Please note that we will compute the training loss _after_ each epoch (not averaging it during epoch).\n",
        "\n",
        "In the propotypes, train and eval modes are noted. In our case, we don't need them (because we don't use neither dropout nor batch normalization). However, we will switch the regime so you can use this code in the future."
      ]
    },
    {
      "cell_type": "markdown",
      "metadata": {
        "id": "K-9aShtYQWkt"
      },
      "source": [
        "### <font color='red'>[TODO] Реализуйте функции обучение модели </font>\n",
        "\n",
        "В части вам нужно написать циклы обучения моделей, вы можете ориентировать на ноутбук семинара при их выполнении"
      ]
    },
    {
      "cell_type": "code",
      "execution_count": 15,
      "metadata": {
        "collapsed": true,
        "id": "5dQn4HuD5YqL"
      },
      "outputs": [],
      "source": [
        "def train_epoch(model, optimizer, train_loader, criterion, device):\n",
        "    \"\"\"\n",
        "    for each batch\n",
        "    performs forward and backward pass and parameters update\n",
        "\n",
        "    Input:\n",
        "    model: instance of model (example defined above)\n",
        "    optimizer: instance of optimizer (defined above)\n",
        "    train_loader: instance of DataLoader\n",
        "\n",
        "    Returns:\n",
        "    nothing\n",
        "\n",
        "    Do not forget to set net to train mode!\n",
        "    \"\"\"\n",
        "    ### your code here\n",
        "    model.train()\n",
        "    for it, traindata in enumerate(train_loader):\n",
        "        train_inputs, train_labels = traindata\n",
        "        train_inputs = train_inputs.to(device) \n",
        "        train_labels = train_labels.to(device)\n",
        "        train_labels = torch.squeeze(train_labels)\n",
        "\n",
        "        model.zero_grad()        \n",
        "        # train_inputs = train_inputs.permute(0,1,2,3)\n",
        "        # print(train_inputs.shape)\n",
        "        # print(train_inputs.t())\n",
        "        output = model(train_inputs)\n",
        "        # output = model(train_inputs.t()) # pay attention here!\n",
        "        # print(train_labels.shape)\n",
        "        loss = criterion(output, train_labels.long())\n",
        "        loss.backward()\n",
        "        optimizer.step()\n",
        "\n",
        "\n",
        "def evaluate_loss_acc(loader, model, criterion, device):\n",
        "    \"\"\"\n",
        "    Evaluates loss and accuracy on the whole dataset\n",
        "\n",
        "    Input:\n",
        "    loader:  instance of DataLoader\n",
        "    model: instance of model (examle defined above)\n",
        "\n",
        "    Returns:\n",
        "    (loss, accuracy)\n",
        "\n",
        "    Do not forget to set net to eval mode!\n",
        "    \"\"\"\n",
        "    ### your code here\n",
        "    model.eval()\n",
        "    total_acc = 0.0\n",
        "    total_loss = 0.0\n",
        "    total = 0.0\n",
        "    for it, data in enumerate(loader):\n",
        "        inputs, labels = data\n",
        "        inputs = inputs.to(device) \n",
        "        labels = labels.to(device)\n",
        "        labels = torch.squeeze(labels)\n",
        "\n",
        "        output = model(inputs) # pay attention here!\n",
        "        loss = criterion(output, labels.long())# + torch.norm(WW^T - I)\n",
        "        total_loss += loss.item()\n",
        "        # print(labels)\n",
        "        # calc testing acc        \n",
        "        # pred = output.view(-1) > 0.5\n",
        "        pred = output.argmax(dim=1)\n",
        "        correct = pred == labels.byte()\n",
        "        total_acc += torch.sum(correct).item() / len(correct)\n",
        "\n",
        "    total = it + 1\n",
        "    return total_loss / total, total_acc / total\n",
        "\n",
        "def train(model, opt, train_loader, test_loader, criterion, n_epochs, \\\n",
        "          device, verbose=True):\n",
        "    \"\"\"\n",
        "    Performs training of the model and prints progress\n",
        "\n",
        "    Input:\n",
        "    model: instance of model (example defined above)\n",
        "    opt: instance of optimizer\n",
        "    train_loader: instance of DataLoader\n",
        "    test_loader: instance of DataLoader (for evaluation)\n",
        "    n_epochs: int\n",
        "\n",
        "    Returns:\n",
        "    4 lists: train_log, train_acc_log, val_log, val_acc_log\n",
        "    with corresponding metrics per epoch\n",
        "    \"\"\"\n",
        "    train_log, train_acc_log = [], []\n",
        "    val_log, val_acc_log = [], []\n",
        "\n",
        "    for epoch in range(n_epochs):\n",
        "        train_epoch(model, opt, train_loader, criterion, device)\n",
        "        train_loss, train_acc = evaluate_loss_acc(train_loader,\n",
        "                                                  model, criterion,\n",
        "                                                  device)\n",
        "        val_loss, val_acc = evaluate_loss_acc(test_loader, model,\n",
        "                                              criterion, device)\n",
        "\n",
        "        train_log.append(train_loss)\n",
        "        train_acc_log.append(train_acc)\n",
        "\n",
        "        val_log.append(val_loss)\n",
        "        val_acc_log.append(val_acc)\n",
        "\n",
        "        if verbose:\n",
        "             print (('Epoch [%d/%d], Loss (train/test): %.4f/%.4f,'+\\\n",
        "               ' Acc (train/test): %.4f/%.4f' )\n",
        "                   %(epoch+1, n_epochs, \\\n",
        "                     train_loss, val_loss, train_acc, val_acc))\n",
        "\n",
        "    return train_log, train_acc_log, val_log, val_acc_log"
      ]
    },
    {
      "cell_type": "markdown",
      "metadata": {
        "id": "DIl21h4g5YqM"
      },
      "source": [
        "### <font color='red'>[TODO] Обучение модели </font>\n",
        "\n",
        "Train the neural network, using defined functions. Use Adam as an optimizer, learning_rate=0.001, number of epochs = 20. For hold out, use val_loader, not test_loader."
      ]
    },
    {
      "cell_type": "code",
      "execution_count": 22,
      "metadata": {
        "collapsed": true,
        "id": "g9Z-1m-45YqN"
      },
      "outputs": [
        {
          "name": "stdout",
          "output_type": "stream",
          "text": [
            "CPU times: user 10 µs, sys: 1 µs, total: 11 µs\n",
            "Wall time: 20 µs\n",
            "Epoch [1/10], Loss (train/test): 0.0986/0.1011, Acc (train/test): 0.9714/0.9715\n",
            "Epoch [2/10], Loss (train/test): 0.0609/0.0710, Acc (train/test): 0.9810/0.9786\n",
            "Epoch [3/10], Loss (train/test): 0.0464/0.0592, Acc (train/test): 0.9849/0.9820\n",
            "Epoch [4/10], Loss (train/test): 0.0570/0.0738, Acc (train/test): 0.9803/0.9767\n",
            "Epoch [5/10], Loss (train/test): 0.0385/0.0583, Acc (train/test): 0.9866/0.9814\n",
            "Epoch [6/10], Loss (train/test): 0.0258/0.0537, Acc (train/test): 0.9920/0.9837\n",
            "Epoch [7/10], Loss (train/test): 0.0165/0.0472, Acc (train/test): 0.9945/0.9856\n",
            "Epoch [8/10], Loss (train/test): 0.0171/0.0554, Acc (train/test): 0.9938/0.9845\n",
            "Epoch [9/10], Loss (train/test): 0.0131/0.0558, Acc (train/test): 0.9950/0.9848\n",
            "Epoch [10/10], Loss (train/test): 0.0152/0.0580, Acc (train/test): 0.9942/0.9830\n",
            "[0.09861898098854309, 0.060867395418438504, 0.04643263722413239, 0.05703876911801226, 0.03853334727786244, 0.02578456551951178, 0.016516568534388307, 0.01712504315519448, 0.013054847613006751, 0.015220100925975241] [0.9713652482269504, 0.9809840425531915, 0.984906914893617, 0.9803191489361702, 0.9866356382978724, 0.9919547872340425, 0.9944813829787233, 0.9938164893617021, 0.9950132978723404, 0.9942154255319149] [0.10112442759423261, 0.07095768227342777, 0.05915209824596769, 0.07381734532633334, 0.05826424719516639, 0.05369156006316096, 0.04716225643480044, 0.055439208398459006, 0.05582023011538695, 0.05802932623305858] [0.9715366242038217, 0.9786027070063694, 0.9819864649681529, 0.9767117834394905, 0.9813893312101911, 0.9836783439490446, 0.9855692675159236, 0.9844745222929936, 0.9847730891719745, 0.9829816878980892]\n"
          ]
        }
      ],
      "source": [
        "### your code here\n",
        "cnn = CNN()\n",
        "learning_rate = 0.001\n",
        "optimizer = optim.Adam(cnn.parameters(), lr=learning_rate)\n",
        "num_epochs = 10\n",
        "%time \n",
        "a, b, c, d = train(train_loader=train_loader, test_loader=test_loader, model=cnn, criterion=criterion,opt=optimizer, device=device, n_epochs=num_epochs)\n",
        "print( a ,b ,c ,d)"
      ]
    },
    {
      "cell_type": "markdown",
      "metadata": {
        "id": "tjpBaZ7fSiP7"
      },
      "source": [
        "### <font color='red'>[TODO] Проведите эксперименты с моделью </font>"
      ]
    },
    {
      "cell_type": "markdown",
      "metadata": {
        "id": "AE5cJCEc5Yqq"
      },
      "source": [
        "\n",
        "### Choosing  learning_rate and batch_size"
      ]
    },
    {
      "cell_type": "markdown",
      "metadata": {
        "id": "Z_plUpWK5Yqq"
      },
      "source": [
        "Plot accuracy on the training and testing set v. s. training epoch for different learning parameters: learning rate$ \\in \\{0.0001, 0.001, 0.01\\}$, batch size $\\in \\{64, 256\\}$.\n",
        "\n",
        "The best option is to plot training curves on the left graph and validation curves on the right graph with the shared y axis (use plt.ylim).\n",
        "\n",
        "How do learning rate and batch size affect the final quality of the model?"
      ]
    },
    {
      "cell_type": "code",
      "execution_count": 150,
      "metadata": {},
      "outputs": [
        {
          "name": "stdout",
          "output_type": "stream",
          "text": [
            "--------------------------------------- Learning Rate: 0.01, Batch Size: 64 --------------------------------------------------------\n",
            "CPU times: user 5 µs, sys: 0 ns, total: 5 µs\n",
            "Wall time: 12.6 µs\n",
            "Epoch [1/30], Loss (train/test): 0.1059/0.1247, Acc (train/test): 0.9659/0.9622\n",
            "Epoch [2/30], Loss (train/test): 0.0507/0.0685, Acc (train/test): 0.9836/0.9790\n",
            "Epoch [3/30], Loss (train/test): 0.0700/0.0966, Acc (train/test): 0.9785/0.9717\n",
            "Epoch [4/30], Loss (train/test): 0.0320/0.0599, Acc (train/test): 0.9904/0.9833\n",
            "Epoch [5/30], Loss (train/test): 0.0423/0.0701, Acc (train/test): 0.9872/0.9790\n",
            "Epoch [6/30], Loss (train/test): 0.0334/0.0804, Acc (train/test): 0.9891/0.9790\n",
            "Epoch [7/30], Loss (train/test): 0.0306/0.0850, Acc (train/test): 0.9913/0.9794\n",
            "Epoch [8/30], Loss (train/test): 0.0215/0.0745, Acc (train/test): 0.9928/0.9799\n",
            "Epoch [9/30], Loss (train/test): 0.0355/0.0843, Acc (train/test): 0.9887/0.9792\n",
            "Epoch [10/30], Loss (train/test): 0.0326/0.0960, Acc (train/test): 0.9892/0.9778\n",
            "Epoch [11/30], Loss (train/test): 0.0279/0.0838, Acc (train/test): 0.9913/0.9800\n",
            "Epoch [12/30], Loss (train/test): 0.0306/0.1006, Acc (train/test): 0.9914/0.9799\n",
            "Epoch [13/30], Loss (train/test): 0.0372/0.1057, Acc (train/test): 0.9905/0.9769\n",
            "Epoch [14/30], Loss (train/test): 0.0384/0.1233, Acc (train/test): 0.9907/0.9758\n",
            "Epoch [15/30], Loss (train/test): 0.0194/0.0789, Acc (train/test): 0.9941/0.9822\n",
            "Epoch [16/30], Loss (train/test): 0.0186/0.0756, Acc (train/test): 0.9950/0.9819\n",
            "Epoch [17/30], Loss (train/test): 0.0288/0.0943, Acc (train/test): 0.9924/0.9812\n",
            "Epoch [18/30], Loss (train/test): 0.0438/0.1265, Acc (train/test): 0.9922/0.9792\n",
            "Epoch [19/30], Loss (train/test): 0.0470/0.1389, Acc (train/test): 0.9893/0.9766\n",
            "Epoch [20/30], Loss (train/test): 0.0169/0.0951, Acc (train/test): 0.9961/0.9828\n",
            "Epoch [21/30], Loss (train/test): 0.0104/0.0888, Acc (train/test): 0.9973/0.9844\n",
            "Epoch [22/30], Loss (train/test): 0.0244/0.1157, Acc (train/test): 0.9943/0.9796\n",
            "Epoch [23/30], Loss (train/test): 0.0238/0.1113, Acc (train/test): 0.9942/0.9817\n",
            "Epoch [24/30], Loss (train/test): 0.0070/0.0968, Acc (train/test): 0.9980/0.9851\n",
            "Epoch [25/30], Loss (train/test): 0.0119/0.1207, Acc (train/test): 0.9976/0.9833\n",
            "Epoch [26/30], Loss (train/test): 0.0308/0.1344, Acc (train/test): 0.9920/0.9782\n",
            "Epoch [27/30], Loss (train/test): 0.0363/0.1547, Acc (train/test): 0.9922/0.9790\n",
            "Epoch [28/30], Loss (train/test): 0.0189/0.1108, Acc (train/test): 0.9967/0.9829\n",
            "Epoch [29/30], Loss (train/test): 0.0199/0.0905, Acc (train/test): 0.9947/0.9798\n",
            "Epoch [30/30], Loss (train/test): 0.0089/0.0903, Acc (train/test): 0.9976/0.9851\n",
            "--------------------------------------- Learning Rate: 0.01, Batch Size: 256 --------------------------------------------------------\n",
            "CPU times: user 5 µs, sys: 1e+03 ns, total: 6 µs\n",
            "Wall time: 10.3 µs\n",
            "Epoch [1/30], Loss (train/test): 0.0986/0.0972, Acc (train/test): 0.9688/0.9685\n",
            "Epoch [2/30], Loss (train/test): 0.0621/0.0699, Acc (train/test): 0.9799/0.9771\n",
            "Epoch [3/30], Loss (train/test): 0.0731/0.0910, Acc (train/test): 0.9764/0.9694\n",
            "Epoch [4/30], Loss (train/test): 0.0471/0.0704, Acc (train/test): 0.9846/0.9780\n",
            "Epoch [5/30], Loss (train/test): 0.0409/0.0727, Acc (train/test): 0.9866/0.9788\n",
            "Epoch [6/30], Loss (train/test): 0.0306/0.0618, Acc (train/test): 0.9900/0.9799\n",
            "Epoch [7/30], Loss (train/test): 0.0428/0.0797, Acc (train/test): 0.9858/0.9779\n",
            "Epoch [8/30], Loss (train/test): 0.0656/0.1123, Acc (train/test): 0.9813/0.9717\n",
            "Epoch [9/30], Loss (train/test): 0.0156/0.0584, Acc (train/test): 0.9950/0.9856\n",
            "Epoch [10/30], Loss (train/test): 0.0300/0.0797, Acc (train/test): 0.9905/0.9786\n",
            "Epoch [11/30], Loss (train/test): 0.0162/0.0695, Acc (train/test): 0.9949/0.9830\n",
            "Epoch [12/30], Loss (train/test): 0.0174/0.0687, Acc (train/test): 0.9939/0.9823\n",
            "Epoch [13/30], Loss (train/test): 0.0139/0.0667, Acc (train/test): 0.9952/0.9839\n",
            "Epoch [14/30], Loss (train/test): 0.0226/0.0820, Acc (train/test): 0.9925/0.9807\n",
            "Epoch [15/30], Loss (train/test): 0.0197/0.0764, Acc (train/test): 0.9933/0.9816\n",
            "Epoch [16/30], Loss (train/test): 0.0110/0.0690, Acc (train/test): 0.9968/0.9836\n",
            "Epoch [17/30], Loss (train/test): 0.0032/0.0694, Acc (train/test): 0.9992/0.9851\n",
            "Epoch [18/30], Loss (train/test): 0.0070/0.0699, Acc (train/test): 0.9978/0.9847\n",
            "Epoch [19/30], Loss (train/test): 0.0188/0.0944, Acc (train/test): 0.9944/0.9800\n",
            "Epoch [20/30], Loss (train/test): 0.0037/0.0762, Acc (train/test): 0.9987/0.9846\n",
            "Epoch [21/30], Loss (train/test): 0.0156/0.0885, Acc (train/test): 0.9952/0.9819\n",
            "Epoch [22/30], Loss (train/test): 0.0130/0.0778, Acc (train/test): 0.9959/0.9819\n",
            "Epoch [23/30], Loss (train/test): 0.0077/0.0860, Acc (train/test): 0.9976/0.9818\n",
            "Epoch [24/30], Loss (train/test): 0.0044/0.0757, Acc (train/test): 0.9985/0.9831\n",
            "Epoch [25/30], Loss (train/test): 0.0149/0.0956, Acc (train/test): 0.9950/0.9829\n",
            "Epoch [26/30], Loss (train/test): 0.0094/0.0860, Acc (train/test): 0.9967/0.9824\n",
            "Epoch [27/30], Loss (train/test): 0.0041/0.0809, Acc (train/test): 0.9985/0.9836\n",
            "Epoch [28/30], Loss (train/test): 0.0070/0.0863, Acc (train/test): 0.9977/0.9822\n",
            "Epoch [29/30], Loss (train/test): 0.0073/0.0929, Acc (train/test): 0.9977/0.9828\n",
            "Epoch [30/30], Loss (train/test): 0.0180/0.1158, Acc (train/test): 0.9946/0.9810\n",
            "--------------------------------------- Learning Rate: 0.001, Batch Size: 64 --------------------------------------------------------\n",
            "CPU times: user 8 µs, sys: 1e+03 ns, total: 9 µs\n",
            "Wall time: 14.3 µs\n",
            "Epoch [1/30], Loss (train/test): 0.1057/0.1090, Acc (train/test): 0.9691/0.9673\n",
            "Epoch [2/30], Loss (train/test): 0.0594/0.0717, Acc (train/test): 0.9824/0.9774\n",
            "Epoch [3/30], Loss (train/test): 0.0424/0.0610, Acc (train/test): 0.9877/0.9801\n",
            "Epoch [4/30], Loss (train/test): 0.0377/0.0623, Acc (train/test): 0.9876/0.9793\n",
            "Epoch [5/30], Loss (train/test): 0.0351/0.0640, Acc (train/test): 0.9879/0.9792\n",
            "Epoch [6/30], Loss (train/test): 0.0286/0.0597, Acc (train/test): 0.9911/0.9804\n",
            "Epoch [7/30], Loss (train/test): 0.0389/0.0723, Acc (train/test): 0.9878/0.9777\n",
            "Epoch [8/30], Loss (train/test): 0.0179/0.0590, Acc (train/test): 0.9941/0.9807\n",
            "Epoch [9/30], Loss (train/test): 0.0163/0.0624, Acc (train/test): 0.9951/0.9813\n",
            "Epoch [10/30], Loss (train/test): 0.0237/0.0874, Acc (train/test): 0.9906/0.9765\n",
            "Epoch [11/30], Loss (train/test): 0.0171/0.0667, Acc (train/test): 0.9941/0.9788\n",
            "Epoch [12/30], Loss (train/test): 0.0165/0.0677, Acc (train/test): 0.9941/0.9814\n",
            "Epoch [13/30], Loss (train/test): 0.0111/0.0611, Acc (train/test): 0.9967/0.9828\n",
            "Epoch [14/30], Loss (train/test): 0.0353/0.0883, Acc (train/test): 0.9880/0.9775\n",
            "Epoch [15/30], Loss (train/test): 0.0156/0.0760, Acc (train/test): 0.9943/0.9831\n",
            "Epoch [16/30], Loss (train/test): 0.0288/0.0863, Acc (train/test): 0.9906/0.9803\n",
            "Epoch [17/30], Loss (train/test): 0.0355/0.1011, Acc (train/test): 0.9889/0.9751\n",
            "Epoch [18/30], Loss (train/test): 0.0088/0.0754, Acc (train/test): 0.9970/0.9818\n",
            "Epoch [19/30], Loss (train/test): 0.0034/0.0622, Acc (train/test): 0.9986/0.9858\n",
            "Epoch [20/30], Loss (train/test): 0.0073/0.0816, Acc (train/test): 0.9979/0.9829\n",
            "Epoch [21/30], Loss (train/test): 0.0065/0.0735, Acc (train/test): 0.9980/0.9830\n",
            "Epoch [22/30], Loss (train/test): 0.0075/0.0840, Acc (train/test): 0.9976/0.9824\n",
            "Epoch [23/30], Loss (train/test): 0.0147/0.0758, Acc (train/test): 0.9949/0.9828\n",
            "Epoch [24/30], Loss (train/test): 0.0047/0.0686, Acc (train/test): 0.9983/0.9842\n",
            "Epoch [25/30], Loss (train/test): 0.0033/0.0717, Acc (train/test): 0.9989/0.9859\n",
            "Epoch [26/30], Loss (train/test): 0.0026/0.0677, Acc (train/test): 0.9991/0.9855\n",
            "Epoch [27/30], Loss (train/test): 0.0083/0.0771, Acc (train/test): 0.9971/0.9843\n",
            "Epoch [28/30], Loss (train/test): 0.0151/0.0923, Acc (train/test): 0.9957/0.9831\n",
            "Epoch [29/30], Loss (train/test): 0.0037/0.0784, Acc (train/test): 0.9990/0.9828\n",
            "Epoch [30/30], Loss (train/test): 0.0277/0.0937, Acc (train/test): 0.9923/0.9811\n",
            "--------------------------------------- Learning Rate: 0.001, Batch Size: 256 --------------------------------------------------------\n",
            "CPU times: user 8 µs, sys: 0 ns, total: 8 µs\n",
            "Wall time: 13.6 µs\n",
            "Epoch [1/30], Loss (train/test): 0.2758/0.2603, Acc (train/test): 0.9185/0.9244\n",
            "Epoch [2/30], Loss (train/test): 0.1465/0.1418, Acc (train/test): 0.9561/0.9575\n",
            "Epoch [3/30], Loss (train/test): 0.1017/0.1045, Acc (train/test): 0.9697/0.9688\n",
            "Epoch [4/30], Loss (train/test): 0.0797/0.0892, Acc (train/test): 0.9756/0.9719\n",
            "Epoch [5/30], Loss (train/test): 0.0606/0.0762, Acc (train/test): 0.9823/0.9747\n",
            "Epoch [6/30], Loss (train/test): 0.0481/0.0681, Acc (train/test): 0.9869/0.9765\n",
            "Epoch [7/30], Loss (train/test): 0.0407/0.0648, Acc (train/test): 0.9887/0.9780\n",
            "Epoch [8/30], Loss (train/test): 0.0361/0.0632, Acc (train/test): 0.9898/0.9774\n",
            "Epoch [9/30], Loss (train/test): 0.0306/0.0612, Acc (train/test): 0.9915/0.9796\n",
            "Epoch [10/30], Loss (train/test): 0.0268/0.0603, Acc (train/test): 0.9926/0.9804\n",
            "Epoch [11/30], Loss (train/test): 0.0263/0.0623, Acc (train/test): 0.9920/0.9799\n",
            "Epoch [12/30], Loss (train/test): 0.0346/0.0736, Acc (train/test): 0.9880/0.9783\n",
            "Epoch [13/30], Loss (train/test): 0.0551/0.0962, Acc (train/test): 0.9813/0.9720\n",
            "Epoch [14/30], Loss (train/test): 0.0585/0.1015, Acc (train/test): 0.9807/0.9707\n",
            "Epoch [15/30], Loss (train/test): 0.0283/0.0711, Acc (train/test): 0.9908/0.9782\n",
            "Epoch [16/30], Loss (train/test): 0.0166/0.0616, Acc (train/test): 0.9944/0.9806\n",
            "Epoch [17/30], Loss (train/test): 0.0223/0.0677, Acc (train/test): 0.9920/0.9802\n",
            "Epoch [18/30], Loss (train/test): 0.0190/0.0671, Acc (train/test): 0.9931/0.9790\n",
            "Epoch [19/30], Loss (train/test): 0.0170/0.0689, Acc (train/test): 0.9944/0.9797\n",
            "Epoch [20/30], Loss (train/test): 0.0131/0.0696, Acc (train/test): 0.9961/0.9782\n",
            "Epoch [21/30], Loss (train/test): 0.0254/0.0910, Acc (train/test): 0.9917/0.9733\n",
            "Epoch [22/30], Loss (train/test): 0.0430/0.1279, Acc (train/test): 0.9839/0.9666\n",
            "Epoch [23/30], Loss (train/test): 0.0260/0.1057, Acc (train/test): 0.9904/0.9710\n",
            "Epoch [24/30], Loss (train/test): 0.0089/0.0733, Acc (train/test): 0.9969/0.9796\n",
            "Epoch [25/30], Loss (train/test): 0.0084/0.0714, Acc (train/test): 0.9974/0.9811\n",
            "Epoch [26/30], Loss (train/test): 0.0086/0.0723, Acc (train/test): 0.9965/0.9807\n",
            "Epoch [27/30], Loss (train/test): 0.0135/0.0862, Acc (train/test): 0.9949/0.9784\n",
            "Epoch [28/30], Loss (train/test): 0.0069/0.0756, Acc (train/test): 0.9976/0.9795\n",
            "Epoch [29/30], Loss (train/test): 0.0014/0.0657, Acc (train/test): 1.0000/0.9835\n",
            "Epoch [30/30], Loss (train/test): 0.0019/0.0684, Acc (train/test): 0.9998/0.9824\n",
            "--------------------------------------- Learning Rate: 0.0001, Batch Size: 64 --------------------------------------------------------\n",
            "CPU times: user 6 µs, sys: 0 ns, total: 6 µs\n",
            "Wall time: 10.7 µs\n",
            "Epoch [1/30], Loss (train/test): 0.5271/0.5064, Acc (train/test): 0.9001/0.9092\n",
            "Epoch [2/30], Loss (train/test): 0.2246/0.2081, Acc (train/test): 0.9455/0.9512\n",
            "Epoch [3/30], Loss (train/test): 0.1528/0.1419, Acc (train/test): 0.9597/0.9630\n",
            "Epoch [4/30], Loss (train/test): 0.1182/0.1121, Acc (train/test): 0.9664/0.9696\n",
            "Epoch [5/30], Loss (train/test): 0.0972/0.0950, Acc (train/test): 0.9724/0.9737\n",
            "Epoch [6/30], Loss (train/test): 0.0828/0.0839, Acc (train/test): 0.9754/0.9765\n",
            "Epoch [7/30], Loss (train/test): 0.0720/0.0761, Acc (train/test): 0.9789/0.9784\n",
            "Epoch [8/30], Loss (train/test): 0.0636/0.0705, Acc (train/test): 0.9816/0.9790\n",
            "Epoch [9/30], Loss (train/test): 0.0568/0.0662, Acc (train/test): 0.9842/0.9803\n",
            "Epoch [10/30], Loss (train/test): 0.0509/0.0628, Acc (train/test): 0.9860/0.9813\n",
            "Epoch [11/30], Loss (train/test): 0.0460/0.0601, Acc (train/test): 0.9873/0.9816\n",
            "Epoch [12/30], Loss (train/test): 0.0415/0.0578, Acc (train/test): 0.9884/0.9826\n",
            "Epoch [13/30], Loss (train/test): 0.0377/0.0560, Acc (train/test): 0.9898/0.9826\n",
            "Epoch [14/30], Loss (train/test): 0.0344/0.0546, Acc (train/test): 0.9914/0.9827\n",
            "Epoch [15/30], Loss (train/test): 0.0313/0.0534, Acc (train/test): 0.9926/0.9828\n",
            "Epoch [16/30], Loss (train/test): 0.0286/0.0524, Acc (train/test): 0.9938/0.9832\n",
            "Epoch [17/30], Loss (train/test): 0.0262/0.0516, Acc (train/test): 0.9944/0.9832\n",
            "Epoch [18/30], Loss (train/test): 0.0239/0.0510, Acc (train/test): 0.9947/0.9835\n",
            "Epoch [19/30], Loss (train/test): 0.0219/0.0505, Acc (train/test): 0.9953/0.9834\n",
            "Epoch [20/30], Loss (train/test): 0.0201/0.0502, Acc (train/test): 0.9959/0.9831\n",
            "Epoch [21/30], Loss (train/test): 0.0184/0.0500, Acc (train/test): 0.9965/0.9831\n",
            "Epoch [22/30], Loss (train/test): 0.0169/0.0499, Acc (train/test): 0.9971/0.9834\n",
            "Epoch [23/30], Loss (train/test): 0.0155/0.0499, Acc (train/test): 0.9973/0.9832\n",
            "Epoch [24/30], Loss (train/test): 0.0143/0.0500, Acc (train/test): 0.9977/0.9835\n",
            "Epoch [25/30], Loss (train/test): 0.0131/0.0500, Acc (train/test): 0.9980/0.9836\n",
            "Epoch [26/30], Loss (train/test): 0.0120/0.0502, Acc (train/test): 0.9984/0.9836\n",
            "Epoch [27/30], Loss (train/test): 0.0111/0.0505, Acc (train/test): 0.9986/0.9836\n",
            "Epoch [28/30], Loss (train/test): 0.0102/0.0508, Acc (train/test): 0.9988/0.9837\n",
            "Epoch [29/30], Loss (train/test): 0.0093/0.0511, Acc (train/test): 0.9989/0.9838\n",
            "Epoch [30/30], Loss (train/test): 0.0086/0.0516, Acc (train/test): 0.9990/0.9839\n",
            "--------------------------------------- Learning Rate: 0.0001, Batch Size: 256 --------------------------------------------------------\n",
            "CPU times: user 5 µs, sys: 0 ns, total: 5 µs\n",
            "Wall time: 9.06 µs\n",
            "Epoch [1/30], Loss (train/test): 1.8564/1.8443, Acc (train/test): 0.5223/0.5202\n",
            "Epoch [2/30], Loss (train/test): 1.1049/1.0803, Acc (train/test): 0.7845/0.7950\n",
            "Epoch [3/30], Loss (train/test): 0.6288/0.6064, Acc (train/test): 0.8715/0.8779\n",
            "Epoch [4/30], Loss (train/test): 0.4177/0.3995, Acc (train/test): 0.9107/0.9177\n",
            "Epoch [5/30], Loss (train/test): 0.3088/0.2939, Acc (train/test): 0.9299/0.9318\n",
            "Epoch [6/30], Loss (train/test): 0.2458/0.2340, Acc (train/test): 0.9405/0.9443\n",
            "Epoch [7/30], Loss (train/test): 0.2058/0.1971, Acc (train/test): 0.9470/0.9505\n",
            "Epoch [8/30], Loss (train/test): 0.1775/0.1716, Acc (train/test): 0.9535/0.9560\n",
            "Epoch [9/30], Loss (train/test): 0.1570/0.1533, Acc (train/test): 0.9582/0.9595\n",
            "Epoch [10/30], Loss (train/test): 0.1409/0.1393, Acc (train/test): 0.9631/0.9621\n",
            "Epoch [11/30], Loss (train/test): 0.1279/0.1281, Acc (train/test): 0.9659/0.9655\n",
            "Epoch [12/30], Loss (train/test): 0.1170/0.1188, Acc (train/test): 0.9694/0.9676\n",
            "Epoch [13/30], Loss (train/test): 0.1077/0.1112, Acc (train/test): 0.9712/0.9693\n",
            "Epoch [14/30], Loss (train/test): 0.0998/0.1047, Acc (train/test): 0.9729/0.9709\n",
            "Epoch [15/30], Loss (train/test): 0.0929/0.0991, Acc (train/test): 0.9748/0.9727\n",
            "Epoch [16/30], Loss (train/test): 0.0867/0.0942, Acc (train/test): 0.9758/0.9734\n",
            "Epoch [17/30], Loss (train/test): 0.0814/0.0900, Acc (train/test): 0.9778/0.9743\n",
            "Epoch [18/30], Loss (train/test): 0.0765/0.0864, Acc (train/test): 0.9791/0.9751\n",
            "Epoch [19/30], Loss (train/test): 0.0722/0.0832, Acc (train/test): 0.9805/0.9763\n",
            "Epoch [20/30], Loss (train/test): 0.0682/0.0804, Acc (train/test): 0.9812/0.9771\n",
            "Epoch [21/30], Loss (train/test): 0.0646/0.0778, Acc (train/test): 0.9823/0.9775\n",
            "Epoch [22/30], Loss (train/test): 0.0613/0.0756, Acc (train/test): 0.9837/0.9780\n",
            "Epoch [23/30], Loss (train/test): 0.0582/0.0736, Acc (train/test): 0.9849/0.9785\n",
            "Epoch [24/30], Loss (train/test): 0.0554/0.0718, Acc (train/test): 0.9858/0.9788\n",
            "Epoch [25/30], Loss (train/test): 0.0527/0.0701, Acc (train/test): 0.9867/0.9789\n",
            "Epoch [26/30], Loss (train/test): 0.0502/0.0686, Acc (train/test): 0.9876/0.9791\n",
            "Epoch [27/30], Loss (train/test): 0.0479/0.0672, Acc (train/test): 0.9882/0.9792\n",
            "Epoch [28/30], Loss (train/test): 0.0457/0.0660, Acc (train/test): 0.9890/0.9796\n",
            "Epoch [29/30], Loss (train/test): 0.0437/0.0648, Acc (train/test): 0.9895/0.9802\n",
            "Epoch [30/30], Loss (train/test): 0.0417/0.0639, Acc (train/test): 0.9901/0.9801\n"
          ]
        }
      ],
      "source": [
        "learning_rates = [0.01, 0.001, 0.0001]\n",
        "batch_sizes = [64, 256]\n",
        "num_epochs = 30\n",
        "results = []\n",
        "\n",
        "\n",
        "for lr in learning_rates:\n",
        "    for batch_size in batch_sizes:\n",
        "        print('---------------------------------------',f\"Learning Rate: {lr}, Batch Size: {batch_size} --------------------------------------------------------\")\n",
        "        train_loader = get_loader(X_train[:15000], y_train[:15000] , batch_size=batch_size)\n",
        "        test_loader = get_loader(X_test, y_test, batch_size=batch_size)\n",
        "        cnn = CNN()\n",
        "        optimizer = optim.Adam(cnn.parameters(), lr=lr)\n",
        "        %time \n",
        "        loss_train, acc_train, loss_test, acc_test = train(train_loader=train_loader, test_loader=test_loader, model=cnn, criterion=criterion,opt=optimizer, device=device, n_epochs=num_epochs)\n",
        "        results.append([acc_test,loss_test]) \n"
      ]
    },
    {
      "cell_type": "code",
      "execution_count": 153,
      "metadata": {},
      "outputs": [
        {
          "name": "stdout",
          "output_type": "stream",
          "text": [
            "[0.01, 0.001, 0.0001]\n",
            "[64, 256]\n",
            "[0.9621815286624203, 0.9790007961783439, 0.9717356687898089, 0.98328025477707, 0.9790007961783439, 0.9790007961783439, 0.9793988853503185, 0.9798964968152867, 0.9791998407643312, 0.9778065286624203, 0.9799960191082803, 0.9798964968152867, 0.9769108280254777, 0.9758160828025477, 0.9821855095541401, 0.9818869426751592, 0.9811902866242038, 0.9791998407643312, 0.9766122611464968, 0.9827826433121019, 0.984375, 0.9795979299363057, 0.981687898089172, 0.9850716560509554, 0.98328025477707, 0.9782046178343949, 0.9790007961783439, 0.9828821656050956, 0.979796974522293, 0.9850716560509554]\n",
            "[0.96845703125, 0.9771484375, 0.96943359375, 0.97802734375, 0.97880859375, 0.9798828125, 0.9779296875, 0.9716796875, 0.98564453125, 0.97861328125, 0.9830078125, 0.98232421875, 0.98388671875, 0.9806640625, 0.981640625, 0.98359375, 0.98505859375, 0.98466796875, 0.97998046875, 0.9845703125, 0.98193359375, 0.98193359375, 0.9818359375, 0.98310546875, 0.98291015625, 0.982421875, 0.98359375, 0.9822265625, 0.9828125, 0.98095703125]\n",
            "[0.9672571656050956, 0.9774084394904459, 0.9800955414012739, 0.9792993630573248, 0.9791998407643312, 0.9803941082802548, 0.9777070063694268, 0.9806926751592356, 0.9812898089171974, 0.9765127388535032, 0.9788017515923567, 0.9813893312101911, 0.9827826433121019, 0.9775079617834395, 0.9830812101910829, 0.9802945859872612, 0.9751194267515924, 0.9817874203821656, 0.9857683121019108, 0.9828821656050956, 0.9829816878980892, 0.9823845541401274, 0.9827826433121019, 0.9841759554140127, 0.9858678343949044, 0.98546974522293, 0.9842754777070064, 0.9830812101910829, 0.9827826433121019, 0.9810907643312102]\n",
            "[0.9244140625, 0.95751953125, 0.96875, 0.971875, 0.97470703125, 0.97646484375, 0.97802734375, 0.97744140625, 0.97958984375, 0.98037109375, 0.9798828125, 0.9783203125, 0.97197265625, 0.970703125, 0.97822265625, 0.98056640625, 0.98017578125, 0.97900390625, 0.9796875, 0.97822265625, 0.97333984375, 0.9666015625, 0.97099609375, 0.97958984375, 0.9810546875, 0.9806640625, 0.97841796875, 0.9794921875, 0.98349609375, 0.982421875]\n",
            "[0.9092356687898089, 0.951234076433121, 0.9629777070063694, 0.9696457006369427, 0.9737261146496815, 0.9765127388535032, 0.9784036624203821, 0.9790007961783439, 0.9802945859872612, 0.9812898089171974, 0.9815883757961783, 0.9825835987261147, 0.9825835987261147, 0.9826831210191083, 0.9827826433121019, 0.9831807324840764, 0.9831807324840764, 0.9834792993630573, 0.9833797770700637, 0.9830812101910829, 0.9830812101910829, 0.9833797770700637, 0.9831807324840764, 0.9834792993630573, 0.9835788216560509, 0.9835788216560509, 0.9835788216560509, 0.9836783439490446, 0.9837778662420382, 0.9838773885350318]\n",
            "[0.52021484375, 0.79501953125, 0.8779296875, 0.91767578125, 0.9318359375, 0.9443359375, 0.95048828125, 0.95595703125, 0.95947265625, 0.962109375, 0.96552734375, 0.967578125, 0.9693359375, 0.9708984375, 0.97265625, 0.9734375, 0.97431640625, 0.97509765625, 0.97626953125, 0.97705078125, 0.9775390625, 0.97802734375, 0.978515625, 0.97880859375, 0.97890625, 0.9791015625, 0.97919921875, 0.97958984375, 0.98017578125, 0.980078125]\n"
          ]
        }
      ],
      "source": [
        "print(learning_rates )\n",
        "print(batch_sizes)\n",
        "for j in results :\n",
        "    print(j[0])"
      ]
    },
    {
      "cell_type": "code",
      "execution_count": 152,
      "metadata": {},
      "outputs": [
        {
          "data": {
            "image/png": "[encoded data removed]",
            "text/plain": [
              "<Figure size 800x400 with 1 Axes>"
            ]
          },
          "metadata": {},
          "output_type": "display_data"
        },
        {
          "data": {
            "image/png": "[encoded data removed]",
            "text/plain": [
              "<Figure size 800x400 with 1 Axes>"
            ]
          },
          "metadata": {},
          "output_type": "display_data"
        },
        {
          "data": {
            "image/png": "[encoded data removed]",
            "text/plain": [
              "<Figure size 800x400 with 1 Axes>"
            ]
          },
          "metadata": {},
          "output_type": "display_data"
        }
      ],
      "source": [
        "import numpy as np\n",
        "import matplotlib.pyplot as plt\n",
        "\n",
        "\n",
        "\n",
        "pairs = [(results[i][0], results[i+1][0]) for i in range(0, len(results), 2)]\n",
        "\n",
        "\n",
        "\n",
        "for i in range(3) :\n",
        "    plt.figure(figsize =(8,4))\n",
        "    plt.plot(pairs[i][0] , color='red' , label='batchsize ='+ str(batch_sizes[0]))\n",
        "    plt.plot(pairs[i][1] , color='green' , label='batchsize ='+ str(batch_sizes[1]))\n",
        "    plt.legend()\n",
        "    plt.title(f'learning rate = {learning_rates[i]} ')\n",
        "    plt.ylabel('accuracy')\n",
        "    plt.xlabel('epoch')\n",
        "    plt.grid(True)\n",
        "    plt.show()\n",
        "\n"
      ]
    },
    {
      "cell_type": "markdown",
      "metadata": {
        "id": "oEG3Nu9w5Yqs"
      },
      "source": [
        "### Changing the architecture"
      ]
    },
    {
      "cell_type": "markdown",
      "metadata": {
        "id": "IqMV5M1j5Yqs"
      },
      "source": [
        "Try to modify our architecture: increase the number of filters and to reduce the number of fully-connected layers.\n",
        "\n",
        "Insert numbers in the brackets:\n",
        "* LeNet-5 classic (6 and 16 convolutions):  training acc: ( )  validation acc: ( )\n",
        "* Number of convolutions x 4 (24 и 64 convolutions):  training acc: ( )  validation acc: ( )\n",
        "* Removing fully connected layer: the previous network with 1 FC layer: training acc: ( )  validation acc: ( )\n",
        "    \n",
        "    "
      ]
    },
    {
      "attachments": {},
      "cell_type": "markdown",
      "metadata": {},
      "source": [
        "## Без модификаций с лушчими параметрами :"
      ]
    },
    {
      "cell_type": "code",
      "execution_count": 148,
      "metadata": {
        "collapsed": true,
        "id": "eqpd48i25Yqt"
      },
      "outputs": [
        {
          "name": "stdout",
          "output_type": "stream",
          "text": [
            "CPU times: user 25 µs, sys: 1e+03 ns, total: 26 µs\n",
            "Wall time: 52.7 µs\n",
            "Epoch [1/20], Loss (train/test): 0.1602/0.1518, Acc (train/test): 0.9565/0.9594\n",
            "Epoch [2/20], Loss (train/test): 0.0981/0.0955, Acc (train/test): 0.9723/0.9721\n",
            "Epoch [3/20], Loss (train/test): 0.0751/0.0754, Acc (train/test): 0.9784/0.9777\n",
            "Epoch [4/20], Loss (train/test): 0.0622/0.0645, Acc (train/test): 0.9820/0.9805\n",
            "Epoch [5/20], Loss (train/test): 0.0536/0.0577, Acc (train/test): 0.9845/0.9827\n",
            "Epoch [6/20], Loss (train/test): 0.0474/0.0531, Acc (train/test): 0.9862/0.9831\n",
            "Epoch [7/20], Loss (train/test): 0.0427/0.0497, Acc (train/test): 0.9875/0.9842\n",
            "Epoch [8/20], Loss (train/test): 0.0388/0.0472, Acc (train/test): 0.9887/0.9851\n",
            "Epoch [9/20], Loss (train/test): 0.0355/0.0455, Acc (train/test): 0.9893/0.9857\n",
            "Epoch [10/20], Loss (train/test): 0.0325/0.0437, Acc (train/test): 0.9902/0.9861\n",
            "Epoch [11/20], Loss (train/test): 0.0299/0.0422, Acc (train/test): 0.9908/0.9859\n",
            "Epoch [12/20], Loss (train/test): 0.0276/0.0412, Acc (train/test): 0.9915/0.9860\n",
            "Epoch [13/20], Loss (train/test): 0.0257/0.0404, Acc (train/test): 0.9922/0.9864\n",
            "Epoch [14/20], Loss (train/test): 0.0236/0.0394, Acc (train/test): 0.9930/0.9864\n",
            "Epoch [15/20], Loss (train/test): 0.0218/0.0387, Acc (train/test): 0.9934/0.9865\n",
            "Epoch [16/20], Loss (train/test): 0.0199/0.0378, Acc (train/test): 0.9940/0.9871\n",
            "Epoch [17/20], Loss (train/test): 0.0184/0.0373, Acc (train/test): 0.9943/0.9872\n",
            "Epoch [18/20], Loss (train/test): 0.0171/0.0370, Acc (train/test): 0.9948/0.9874\n",
            "Epoch [19/20], Loss (train/test): 0.0157/0.0367, Acc (train/test): 0.9951/0.9877\n",
            "Epoch [20/20], Loss (train/test): 0.0148/0.0371, Acc (train/test): 0.9954/0.9874\n"
          ]
        }
      ],
      "source": [
        "learning_rate = 0.01\n",
        "batch_size = 64\n",
        "num_epochs = 20\n",
        "train_loader = get_loader(X_train, y_train , batch_size=batch_size)\n",
        "test_loader = get_loader(X_test, y_test, batch_size=batch_size)\n",
        "cnn = CNN()\n",
        "optimizer = optim.Adam(cnn.parameters(), lr=lr)\n",
        "%time \n",
        "loss_train, acc_train, loss_test, acc_test = train(train_loader=train_loader, test_loader=test_loader, model=cnn, criterion=criterion,opt=optimizer, device=device, n_epochs=num_epochs)\n",
        "\n"
      ]
    },
    {
      "cell_type": "code",
      "execution_count": 149,
      "metadata": {},
      "outputs": [
        {
          "name": "stdout",
          "output_type": "stream",
          "text": [
            "CPU times: user 4 µs, sys: 0 ns, total: 4 µs\n",
            "Wall time: 8.82 µs\n",
            "Epoch [1/20], Loss (train/test): 0.3797/0.3585, Acc (train/test): 0.9142/0.9193\n",
            "Epoch [2/20], Loss (train/test): 0.1836/0.1701, Acc (train/test): 0.9508/0.9549\n",
            "Epoch [3/20], Loss (train/test): 0.1338/0.1235, Acc (train/test): 0.9627/0.9636\n",
            "Epoch [4/20], Loss (train/test): 0.1083/0.1000, Acc (train/test): 0.9690/0.9698\n",
            "Epoch [5/20], Loss (train/test): 0.0917/0.0849, Acc (train/test): 0.9738/0.9741\n",
            "Epoch [6/20], Loss (train/test): 0.0798/0.0741, Acc (train/test): 0.9771/0.9772\n",
            "Epoch [7/20], Loss (train/test): 0.0707/0.0660, Acc (train/test): 0.9798/0.9801\n",
            "Epoch [8/20], Loss (train/test): 0.0636/0.0597, Acc (train/test): 0.9816/0.9812\n",
            "Epoch [9/20], Loss (train/test): 0.0580/0.0549, Acc (train/test): 0.9831/0.9825\n",
            "Epoch [10/20], Loss (train/test): 0.0533/0.0512, Acc (train/test): 0.9843/0.9837\n",
            "Epoch [11/20], Loss (train/test): 0.0493/0.0479, Acc (train/test): 0.9854/0.9852\n",
            "Epoch [12/20], Loss (train/test): 0.0459/0.0453, Acc (train/test): 0.9863/0.9861\n",
            "Epoch [13/20], Loss (train/test): 0.0428/0.0431, Acc (train/test): 0.9870/0.9862\n",
            "Epoch [14/20], Loss (train/test): 0.0402/0.0413, Acc (train/test): 0.9878/0.9868\n",
            "Epoch [15/20], Loss (train/test): 0.0379/0.0396, Acc (train/test): 0.9886/0.9872\n",
            "Epoch [16/20], Loss (train/test): 0.0357/0.0383, Acc (train/test): 0.9894/0.9875\n",
            "Epoch [17/20], Loss (train/test): 0.0338/0.0372, Acc (train/test): 0.9899/0.9875\n",
            "Epoch [18/20], Loss (train/test): 0.0321/0.0361, Acc (train/test): 0.9904/0.9882\n",
            "Epoch [19/20], Loss (train/test): 0.0305/0.0354, Acc (train/test): 0.9909/0.9886\n",
            "Epoch [20/20], Loss (train/test): 0.0291/0.0346, Acc (train/test): 0.9914/0.9886\n"
          ]
        }
      ],
      "source": [
        "learning_rate = 0.001\n",
        "batch_size = 256\n",
        "num_epochs = 20\n",
        "train_loader = get_loader(X_train, y_train , batch_size=batch_size)\n",
        "test_loader = get_loader(X_test, y_test, batch_size=batch_size)\n",
        "cnn = CNN()\n",
        "optimizer = optim.Adam(cnn.parameters(), lr=lr)\n",
        "%time \n",
        "loss_train, acc_train, loss_test, acc_test = train(train_loader=train_loader, test_loader=test_loader, model=cnn, criterion=criterion,opt=optimizer, device=device, n_epochs=num_epochs)\n",
        "\n"
      ]
    },
    {
      "cell_type": "markdown",
      "metadata": {
        "id": "yoX-g-5n5Yqu"
      },
      "source": [
        "Choose the learning rate, batch size and the architecture based on your experiments. Train a network on the full dataset and print accuracy on the full test set."
      ]
    },
    {
      "attachments": {},
      "cell_type": "markdown",
      "metadata": {},
      "source": [
        "# Реализуем модификации нашей CNN "
      ]
    },
    {
      "attachments": {},
      "cell_type": "markdown",
      "metadata": {},
      "source": [
        "## 1) Попробуем добавить слой (увеличили сложность модели раз в 6)"
      ]
    },
    {
      "cell_type": "code",
      "execution_count": 39,
      "metadata": {},
      "outputs": [],
      "source": [
        "class CNN_mod_1(nn.Module):\n",
        "    def __init__(self ):\n",
        "        super(CNN_mod_1, self).__init__()\n",
        "        self.layer1 = nn.Sequential(\n",
        "            nn.Conv2d(1, 6, kernel_size=5, stride=1, padding=2),\n",
        "            nn.BatchNorm2d(6),\n",
        "            nn.ReLU(),\n",
        "            nn.MaxPool2d(kernel_size = 2, stride = 2))\n",
        "        self.layer2 = nn.Sequential(\n",
        "            nn.Conv2d(6, 16, kernel_size=5, stride=1, padding=0),\n",
        "            nn.BatchNorm2d(16),\n",
        "            nn.ReLU(),\n",
        "            nn.MaxPool2d(kernel_size = 2, stride = 2))\n",
        "        self.fc = nn.Linear(400, 500)\n",
        "        self.relu = nn.ReLU()\n",
        "        self.fc1 = nn.Linear(500, 120)\n",
        "        self.relu1 = nn.ReLU()\n",
        "        self.fc2 = nn.Linear(120, 84)\n",
        "        self.relu2 = nn.ReLU()\n",
        "        self.fc3 = nn.Linear(84, 10)\n",
        "\n",
        "    def forward(self, x):\n",
        "        x = self.layer1(x)  #;print(x.shape)\n",
        "        x = self.layer2(x) #;print(x.shape)\n",
        "        x = x.reshape(x.size(0), -1)\n",
        "        x = self.fc(x) #;print(x.shape)\n",
        "        x = self.relu(x) #;print(x.shape)\n",
        "        x = self.fc1(x) #;print(x.shape)\n",
        "        x = self.relu1(x) #;print(x.shape)\n",
        "        x = self.fc2(x) #;print(x.shape)\n",
        "        x = self.relu2(x) #;print(x.shape)\n",
        "        x = self.fc3(x) #;print(x.shape)\n",
        "        return x"
      ]
    },
    {
      "cell_type": "code",
      "execution_count": 35,
      "metadata": {},
      "outputs": [
        {
          "data": {
            "text/plain": [
              "tensor([[-0.0209, -0.1515,  0.2316,  0.0397, -0.0003,  0.0262, -0.1195,  0.0543,\n",
              "         -0.0293,  0.2522]], grad_fn=<AddmmBackward0>)"
            ]
          },
          "execution_count": 35,
          "metadata": {},
          "output_type": "execute_result"
        }
      ],
      "source": [
        "model_mod = CNN_mod_1()\n",
        "x = torch.randn(1,1,28,28)\n",
        "model_mod.forward(x)"
      ]
    },
    {
      "cell_type": "code",
      "execution_count": 36,
      "metadata": {},
      "outputs": [
        {
          "data": {
            "text/plain": [
              "274250"
            ]
          },
          "execution_count": 36,
          "metadata": {},
          "output_type": "execute_result"
        }
      ],
      "source": [
        "count_parameters(model_mod)"
      ]
    },
    {
      "cell_type": "code",
      "execution_count": 38,
      "metadata": {},
      "outputs": [
        {
          "name": "stdout",
          "output_type": "stream",
          "text": [
            "CPU times: user 6 µs, sys: 0 ns, total: 6 µs\n",
            "Wall time: 13.1 µs\n",
            "Epoch [1/15], Loss (train/test): 0.0964/0.0896, Acc (train/test): 0.9693/0.9704\n",
            "Epoch [2/15], Loss (train/test): 0.0491/0.0481, Acc (train/test): 0.9848/0.9850\n",
            "Epoch [3/15], Loss (train/test): 0.0371/0.0399, Acc (train/test): 0.9886/0.9873\n",
            "Epoch [4/15], Loss (train/test): 0.0301/0.0369, Acc (train/test): 0.9906/0.9885\n",
            "Epoch [5/15], Loss (train/test): 0.0248/0.0357, Acc (train/test): 0.9919/0.9890\n",
            "Epoch [6/15], Loss (train/test): 0.0366/0.0515, Acc (train/test): 0.9884/0.9848\n",
            "Epoch [7/15], Loss (train/test): 0.0185/0.0353, Acc (train/test): 0.9941/0.9898\n",
            "Epoch [8/15], Loss (train/test): 0.0213/0.0408, Acc (train/test): 0.9930/0.9870\n",
            "Epoch [9/15], Loss (train/test): 0.0186/0.0449, Acc (train/test): 0.9938/0.9879\n",
            "Epoch [10/15], Loss (train/test): 0.0159/0.0389, Acc (train/test): 0.9947/0.9888\n",
            "Epoch [11/15], Loss (train/test): 0.0114/0.0364, Acc (train/test): 0.9963/0.9897\n",
            "Epoch [12/15], Loss (train/test): 0.0118/0.0388, Acc (train/test): 0.9959/0.9887\n",
            "Epoch [13/15], Loss (train/test): 0.0096/0.0407, Acc (train/test): 0.9966/0.9896\n",
            "Epoch [14/15], Loss (train/test): 0.0086/0.0398, Acc (train/test): 0.9971/0.9897\n",
            "Epoch [15/15], Loss (train/test): 0.0101/0.0399, Acc (train/test): 0.9968/0.9896\n"
          ]
        }
      ],
      "source": [
        "model_mod = CNN_mod_1()\n",
        "learning_rate = 0.001\n",
        "batch_size = 256\n",
        "num_epochs = 15\n",
        "train_loader = get_loader(X_train, y_train , batch_size=batch_size)\n",
        "test_loader = get_loader(X_test, y_test, batch_size=batch_size)\n",
        "model_mod = CNN_mod_1()\n",
        "optimizer = optim.Adam(model_mod.parameters(), lr=learning_rate)\n",
        "%time \n",
        "loss_train, acc_train, loss_test, acc_test = train(train_loader=train_loader, test_loader=test_loader, model=model_mod, criterion=criterion,opt=optimizer, device=device, n_epochs=num_epochs)\n"
      ]
    },
    {
      "attachments": {},
      "cell_type": "markdown",
      "metadata": {},
      "source": [
        "#### Итог : Большая модель - Быстро обучается на первых итерациях ,но потом как будто попадает в локальный минимум и ходит вокруг него"
      ]
    },
    {
      "attachments": {},
      "cell_type": "markdown",
      "metadata": {},
      "source": [
        "## 2) Поиграемся с ядрами"
      ]
    },
    {
      "cell_type": "code",
      "execution_count": 45,
      "metadata": {},
      "outputs": [],
      "source": [
        "class CNN_mod_2(nn.Module):\n",
        "    def __init__(self, k=1):\n",
        "        super(CNN_mod_2, self).__init__()\n",
        "        self.layer1 = nn.Sequential(\n",
        "            nn.Conv2d(1, 6, kernel_size=6, stride=1, padding=3),\n",
        "            nn.BatchNorm2d(6),\n",
        "            nn.ReLU(),\n",
        "            nn.MaxPool2d(kernel_size = 2, stride = 2))\n",
        "        self.layer2 = nn.Sequential(\n",
        "            nn.Conv2d(6, 16, kernel_size=6, stride=1, padding=1),\n",
        "            nn.BatchNorm2d(16),\n",
        "            nn.ReLU(),\n",
        "            nn.MaxPool2d(kernel_size = 2, stride = 2))\n",
        "        self.fc = nn.Linear(400, 120)\n",
        "        self.relu = nn.ReLU()\n",
        "        self.fc1 = nn.Linear(120, 84)\n",
        "        self.relu1 = nn.ReLU()\n",
        "        self.fc2 = nn.Linear(84, 10)\n",
        "\n",
        "    def forward(self, x):\n",
        "        x = self.layer1(x)  #;print(x.shape)\n",
        "        x = self.layer2(x) #;print(x.shape)\n",
        "        x = x.reshape(x.size(0), -1)\n",
        "        x = self.fc(x) #;print(x.shape)\n",
        "        x = self.relu(x) #;print(x.shape)\n",
        "        x = self.fc1(x) #;print(x.shape)\n",
        "        x = self.relu1(x) #;print(x.shape)\n",
        "        x = self.fc2(x) #;print(x.shape)\n",
        "        return x"
      ]
    },
    {
      "cell_type": "code",
      "execution_count": 46,
      "metadata": {},
      "outputs": [
        {
          "data": {
            "text/plain": [
              "tensor([[ 0.1868, -0.1192, -0.1200,  0.0018,  0.0913,  0.0054, -0.0222,  0.1994,\n",
              "         -0.0927, -0.2084]], grad_fn=<AddmmBackward0>)"
            ]
          },
          "execution_count": 46,
          "metadata": {},
          "output_type": "execute_result"
        }
      ],
      "source": [
        "model_mod = CNN_mod_2()\n",
        "x = torch.randn(1,1,28,28)\n",
        "model_mod.forward(x)"
      ]
    },
    {
      "cell_type": "code",
      "execution_count": 47,
      "metadata": {},
      "outputs": [
        {
          "name": "stdout",
          "output_type": "stream",
          "text": [
            "CPU times: user 5 µs, sys: 1e+03 ns, total: 6 µs\n",
            "Wall time: 10.5 µs\n",
            "Epoch [1/15], Loss (train/test): 0.0817/0.0720, Acc (train/test): 0.9755/0.9780\n",
            "Epoch [2/15], Loss (train/test): 0.0498/0.0478, Acc (train/test): 0.9850/0.9854\n",
            "Epoch [3/15], Loss (train/test): 0.0406/0.0435, Acc (train/test): 0.9878/0.9852\n",
            "Epoch [4/15], Loss (train/test): 0.0398/0.0468, Acc (train/test): 0.9872/0.9831\n",
            "Epoch [5/15], Loss (train/test): 0.0347/0.0426, Acc (train/test): 0.9888/0.9853\n",
            "Epoch [6/15], Loss (train/test): 0.0257/0.0357, Acc (train/test): 0.9917/0.9880\n",
            "Epoch [7/15], Loss (train/test): 0.0294/0.0436, Acc (train/test): 0.9903/0.9850\n",
            "Epoch [8/15], Loss (train/test): 0.0256/0.0444, Acc (train/test): 0.9916/0.9855\n",
            "Epoch [9/15], Loss (train/test): 0.0188/0.0375, Acc (train/test): 0.9939/0.9885\n",
            "Epoch [10/15], Loss (train/test): 0.0197/0.0377, Acc (train/test): 0.9937/0.9884\n",
            "Epoch [11/15], Loss (train/test): 0.0163/0.0354, Acc (train/test): 0.9946/0.9893\n",
            "Epoch [12/15], Loss (train/test): 0.0122/0.0308, Acc (train/test): 0.9959/0.9901\n",
            "Epoch [13/15], Loss (train/test): 0.0170/0.0411, Acc (train/test): 0.9942/0.9879\n",
            "Epoch [14/15], Loss (train/test): 0.0204/0.0463, Acc (train/test): 0.9929/0.9852\n",
            "Epoch [15/15], Loss (train/test): 0.0244/0.0520, Acc (train/test): 0.9919/0.9852\n"
          ]
        }
      ],
      "source": [
        "model_mod = CNN_mod_2()\n",
        "learning_rate = 0.001\n",
        "batch_size = 256\n",
        "num_epochs = 15\n",
        "train_loader = get_loader(X_train, y_train , batch_size=batch_size)\n",
        "test_loader = get_loader(X_test, y_test, batch_size=batch_size)\n",
        "model_mod = CNN_mod_2()\n",
        "optimizer = optim.Adam(model_mod.parameters(), lr=learning_rate)\n",
        "%time \n",
        "loss_train, acc_train, loss_test, acc_test = train(train_loader=train_loader, test_loader=test_loader, model=model_mod, criterion=criterion,opt=optimizer, device=device, n_epochs=num_epochs)\n"
      ]
    },
    {
      "attachments": {},
      "cell_type": "markdown",
      "metadata": {},
      "source": [
        "#### итог: После увеличения ядра ничего  не произошло, только обучалось дольше (())"
      ]
    },
    {
      "attachments": {},
      "cell_type": "markdown",
      "metadata": {},
      "source": [
        "## 3) Оставим измененне ядра , да еще увеличим ядра у пулингов , да еще слой добавим"
      ]
    },
    {
      "cell_type": "code",
      "execution_count": 115,
      "metadata": {},
      "outputs": [],
      "source": [
        "class CNN_mod_3(nn.Module):\n",
        "    def __init__(self, k=1):\n",
        "        super(CNN_mod_3, self).__init__()\n",
        "        self.layer1 = nn.Sequential(\n",
        "            nn.Conv2d(1, 6, kernel_size=5, stride=1, padding=2),\n",
        "            nn.BatchNorm2d(6),\n",
        "            nn.ReLU(),\n",
        "            nn.AvgPool2d(kernel_size = 2, stride = 2))\n",
        "        self.layer2 = nn.Sequential(\n",
        "            nn.Conv2d(6, 10, kernel_size=5, stride=1, padding=2),\n",
        "            nn.BatchNorm2d(10),\n",
        "            nn.ReLU(),\n",
        "            nn.AvgPool2d(kernel_size = 2, stride = 2))\n",
        "        self.layer3 = nn.Sequential(\n",
        "            nn.Conv2d(10, 16, kernel_size=3, stride=1, padding=3),\n",
        "            nn.BatchNorm2d(16),\n",
        "            nn.ReLU(),\n",
        "            nn.AvgPool2d(kernel_size = 2, stride = 2))\n",
        "        self.fc = nn.Linear(400, 120)\n",
        "        self.relu = nn.ReLU()\n",
        "        self.fc1 = nn.Linear(120, 84)\n",
        "        self.relu1 = nn.ReLU()\n",
        "        self.fc2 = nn.Linear(84, 10)\n",
        "\n",
        "    def forward(self, x):\n",
        "        x = self.layer1(x) # ;print(x.shape)\n",
        "        x = self.layer2(x) #;print(x.shape)\n",
        "        x = self.layer3(x) #;print(x.shape)\n",
        "        x = x.reshape(x.size(0), -1)\n",
        "        x = self.fc(x) #;print(x.shape)\n",
        "        x = self.relu(x) #;print(x.shape)\n",
        "        x = self.fc1(x) #;print(x.shape)\n",
        "        x = self.relu1(x) #;print(x.shape)\n",
        "        x = self.fc2(x) #;print(x.shape)\n",
        "        return x"
      ]
    },
    {
      "cell_type": "code",
      "execution_count": 73,
      "metadata": {},
      "outputs": [
        {
          "name": "stdout",
          "output_type": "stream",
          "text": [
            "torch.Size([1, 6, 14, 14])\n",
            "torch.Size([1, 16, 5, 5])\n",
            "torch.Size([1, 120])\n",
            "torch.Size([1, 120])\n",
            "torch.Size([1, 84])\n",
            "torch.Size([1, 84])\n",
            "torch.Size([1, 10])\n"
          ]
        },
        {
          "data": {
            "text/plain": [
              "tensor([[-0.0494, -0.0346, -0.1205, -0.0299,  0.0292,  0.1271, -0.0115,  0.0120,\n",
              "         -0.1133, -0.0241]], grad_fn=<AddmmBackward0>)"
            ]
          },
          "execution_count": 73,
          "metadata": {},
          "output_type": "execute_result"
        }
      ],
      "source": [
        "model_mod = CNN_mod_3()\n",
        "x = torch.randn(1,1,28,28)\n",
        "model_mod.forward(x)"
      ]
    },
    {
      "cell_type": "code",
      "execution_count": 113,
      "metadata": {},
      "outputs": [
        {
          "name": "stdout",
          "output_type": "stream",
          "text": [
            "torch.Size([1, 6, 14, 14])\n",
            "torch.Size([1, 10, 7, 7])\n",
            "torch.Size([1, 16, 5, 5])\n",
            "torch.Size([1, 120])\n",
            "torch.Size([1, 120])\n",
            "torch.Size([1, 84])\n",
            "torch.Size([1, 84])\n",
            "torch.Size([1, 10])\n"
          ]
        },
        {
          "data": {
            "text/plain": [
              "tensor([[-0.1038,  0.0103,  0.0218,  0.0245, -0.0264,  0.0678,  0.1328,  0.0036,\n",
              "         -0.0010, -0.0210]], grad_fn=<AddmmBackward0>)"
            ]
          },
          "execution_count": 113,
          "metadata": {},
          "output_type": "execute_result"
        }
      ],
      "source": [
        "model_mod = CNN_mod_3()\n",
        "x = torch.randn(1,1,28,28)\n",
        "model_mod.forward(x)"
      ]
    },
    {
      "cell_type": "code",
      "execution_count": 116,
      "metadata": {},
      "outputs": [
        {
          "name": "stdout",
          "output_type": "stream",
          "text": [
            "CPU times: user 4 µs, sys: 0 ns, total: 4 µs\n",
            "Wall time: 7.63 µs\n",
            "Epoch [1/15], Loss (train/test): 0.0914/0.0772, Acc (train/test): 0.9724/0.9750\n",
            "Epoch [2/15], Loss (train/test): 0.0618/0.0534, Acc (train/test): 0.9806/0.9818\n",
            "Epoch [3/15], Loss (train/test): 0.0541/0.0470, Acc (train/test): 0.9833/0.9844\n",
            "Epoch [4/15], Loss (train/test): 0.0496/0.0450, Acc (train/test): 0.9841/0.9857\n",
            "Epoch [5/15], Loss (train/test): 0.0413/0.0399, Acc (train/test): 0.9868/0.9871\n",
            "Epoch [6/15], Loss (train/test): 0.0341/0.0351, Acc (train/test): 0.9889/0.9886\n",
            "Epoch [7/15], Loss (train/test): 0.0353/0.0360, Acc (train/test): 0.9885/0.9884\n",
            "Epoch [8/15], Loss (train/test): 0.0394/0.0408, Acc (train/test): 0.9871/0.9879\n",
            "Epoch [9/15], Loss (train/test): 0.0376/0.0414, Acc (train/test): 0.9877/0.9878\n",
            "Epoch [10/15], Loss (train/test): 0.0385/0.0425, Acc (train/test): 0.9875/0.9875\n",
            "Epoch [11/15], Loss (train/test): 0.0307/0.0370, Acc (train/test): 0.9896/0.9893\n",
            "Epoch [12/15], Loss (train/test): 0.0293/0.0366, Acc (train/test): 0.9902/0.9887\n",
            "Epoch [13/15], Loss (train/test): 0.0214/0.0286, Acc (train/test): 0.9930/0.9904\n",
            "Epoch [14/15], Loss (train/test): 0.0220/0.0307, Acc (train/test): 0.9925/0.9902\n",
            "Epoch [15/15], Loss (train/test): 0.0171/0.0268, Acc (train/test): 0.9942/0.9909\n"
          ]
        }
      ],
      "source": [
        "learning_rate = 0.001\n",
        "batch_size = 256\n",
        "num_epochs = 15\n",
        "train_loader = get_loader(X_train, y_train , batch_size=batch_size)\n",
        "test_loader = get_loader(X_test, y_test, batch_size=batch_size)\n",
        "model_mod = CNN_mod_3()\n",
        "optimizer = optim.Adam(model_mod.parameters(), lr=learning_rate)\n",
        "%time \n",
        "loss_train, acc_train, loss_test, acc_test = train(train_loader=train_loader, test_loader=test_loader, model=model_mod, criterion=criterion,opt=optimizer, device=device, n_epochs=num_epochs)\n"
      ]
    },
    {
      "attachments": {},
      "cell_type": "markdown",
      "metadata": {},
      "source": [
        "### Итог: после добавления еще одного сверточного слоя , модель почти дошла до accuracy 99.1 %"
      ]
    },
    {
      "attachments": {},
      "cell_type": "markdown",
      "metadata": {},
      "source": [
        "## 4 ) Раз так , то увеличим число слоев ( раз увлеичили число сверток, то нужно большее число слоев для их анализа )"
      ]
    },
    {
      "cell_type": "code",
      "execution_count": 117,
      "metadata": {},
      "outputs": [],
      "source": [
        "class CNN_mod_4(nn.Module):\n",
        "    def __init__(self, k=1):\n",
        "        super(CNN_mod_4, self).__init__()\n",
        "        self.layer1 = nn.Sequential(\n",
        "            nn.Conv2d(1, 6, kernel_size=5, stride=1, padding=2),\n",
        "            nn.BatchNorm2d(6),\n",
        "            nn.ReLU(),\n",
        "            nn.AvgPool2d(kernel_size = 2, stride = 2))\n",
        "        self.layer2 = nn.Sequential(\n",
        "            nn.Conv2d(6, 10, kernel_size=5, stride=1, padding=2),\n",
        "            nn.BatchNorm2d(10),\n",
        "            nn.ReLU(),\n",
        "            nn.AvgPool2d(kernel_size = 2, stride = 2))\n",
        "        self.layer3 = nn.Sequential(\n",
        "            nn.Conv2d(10, 16, kernel_size=3, stride=1, padding=3),\n",
        "            nn.BatchNorm2d(16),\n",
        "            nn.ReLU(),\n",
        "            nn.AvgPool2d(kernel_size = 2, stride = 2))\n",
        "        self.fc = nn.Linear(400, 150)\n",
        "        self.relu = nn.ReLU()\n",
        "        self.fc1 = nn.Linear(150, 100)\n",
        "        self.relu1 = nn.ReLU()\n",
        "        self.fc2 = nn.Linear(100, 10)\n",
        "\n",
        "    def forward(self, x):\n",
        "        x = self.layer1(x) # ;print(x.shape)\n",
        "        x = self.layer2(x) #;print(x.shape)\n",
        "        x = self.layer3(x) #;print(x.shape)\n",
        "        x = x.reshape(x.size(0), -1)\n",
        "        x = self.fc(x) #;print(x.shape)\n",
        "        x = self.relu(x) #;print(x.shape)\n",
        "        x = self.fc1(x) #;print(x.shape)\n",
        "        x = self.relu1(x) #;print(x.shape)\n",
        "        x = self.fc2(x) #;print(x.shape)\n",
        "        return x"
      ]
    },
    {
      "cell_type": "code",
      "execution_count": 119,
      "metadata": {},
      "outputs": [
        {
          "data": {
            "text/plain": [
              "tensor([[ 0.0027,  0.0192,  0.0206,  0.1518, -0.1500,  0.0328,  0.0345,  0.0494,\n",
              "          0.0854,  0.0445]], grad_fn=<AddmmBackward0>)"
            ]
          },
          "execution_count": 119,
          "metadata": {},
          "output_type": "execute_result"
        }
      ],
      "source": [
        "model_mod = CNN_mod_4()\n",
        "x = torch.randn(1,1,28,28)\n",
        "model_mod.forward(x)"
      ]
    },
    {
      "cell_type": "code",
      "execution_count": 120,
      "metadata": {},
      "outputs": [
        {
          "name": "stdout",
          "output_type": "stream",
          "text": [
            "CPU times: user 4 µs, sys: 1e+03 ns, total: 5 µs\n",
            "Wall time: 8.58 µs\n",
            "Epoch [1/15], Loss (train/test): 0.0979/0.0867, Acc (train/test): 0.9716/0.9736\n",
            "Epoch [2/15], Loss (train/test): 0.0807/0.0720, Acc (train/test): 0.9755/0.9776\n",
            "Epoch [3/15], Loss (train/test): 0.0674/0.0616, Acc (train/test): 0.9792/0.9798\n",
            "Epoch [4/15], Loss (train/test): 0.0518/0.0480, Acc (train/test): 0.9843/0.9851\n",
            "Epoch [5/15], Loss (train/test): 0.0436/0.0417, Acc (train/test): 0.9864/0.9862\n",
            "Epoch [6/15], Loss (train/test): 0.0471/0.0451, Acc (train/test): 0.9846/0.9854\n",
            "Epoch [7/15], Loss (train/test): 0.0487/0.0472, Acc (train/test): 0.9838/0.9856\n",
            "Epoch [8/15], Loss (train/test): 0.0402/0.0409, Acc (train/test): 0.9863/0.9871\n",
            "Epoch [9/15], Loss (train/test): 0.0301/0.0339, Acc (train/test): 0.9900/0.9893\n",
            "Epoch [10/15], Loss (train/test): 0.0268/0.0340, Acc (train/test): 0.9914/0.9895\n",
            "Epoch [11/15], Loss (train/test): 0.0232/0.0327, Acc (train/test): 0.9925/0.9895\n",
            "Epoch [12/15], Loss (train/test): 0.0231/0.0336, Acc (train/test): 0.9927/0.9890\n",
            "Epoch [13/15], Loss (train/test): 0.0257/0.0382, Acc (train/test): 0.9916/0.9885\n",
            "Epoch [14/15], Loss (train/test): 0.0285/0.0420, Acc (train/test): 0.9906/0.9877\n",
            "Epoch [15/15], Loss (train/test): 0.0218/0.0371, Acc (train/test): 0.9928/0.9886\n"
          ]
        }
      ],
      "source": [
        "learning_rate = 0.001\n",
        "batch_size = 256\n",
        "num_epochs = 15\n",
        "train_loader = get_loader(X_train, y_train , batch_size=batch_size)\n",
        "test_loader = get_loader(X_test, y_test, batch_size=batch_size)\n",
        "model_mod = CNN_mod_4()\n",
        "optimizer = optim.Adam(model_mod.parameters(), lr=learning_rate)\n",
        "%time \n",
        "loss_train, acc_train, loss_test, acc_test = train(train_loader=train_loader, test_loader=test_loader, model=model_mod, criterion=criterion,opt=optimizer, device=device, n_epochs=num_epochs)\n"
      ]
    },
    {
      "attachments": {},
      "cell_type": "markdown",
      "metadata": {},
      "source": [
        "#### Видно модель переобучилась (loss train сильно меньше loss test)"
      ]
    },
    {
      "cell_type": "code",
      "execution_count": null,
      "metadata": {},
      "outputs": [],
      "source": []
    },
    {
      "attachments": {},
      "cell_type": "markdown",
      "metadata": {},
      "source": [
        "## Фанимся "
      ]
    },
    {
      "cell_type": "code",
      "execution_count": null,
      "metadata": {},
      "outputs": [],
      "source": [
        "from PIL import Image\n",
        "import torchvision.transforms as transforms"
      ]
    },
    {
      "attachments": {},
      "cell_type": "markdown",
      "metadata": {},
      "source": [
        "image_path = \"drawn_image.png\"\n",
        "image = Image.open(image_path)\n",
        "transform = transforms.Compose([\n",
        "    transforms.Grayscale(num_output_channels=1),  # Преобразовать в черно-белое изображение\n",
        "    transforms.Resize((28, 28)),  # Изменить размер до 28x28\n",
        "    transforms.ToTensor(),  # Преобразовать в тензор\n",
        "])\n",
        "input = transform(image)\n",
        "input = input.unsqueeze(0)\n",
        "input = input.to(device) \n",
        "output = cnn(input)\n",
        "pred = output.argmax(dim=1)\n",
        "print(input.shape)\n",
        "print(pred)\n",
        "pixels_array = input[0][0].numpy()\n",
        "plt.imshow(pixels_array, cmap='gray')  # cmap='gray' для отображения в черно-белой палитре\n",
        "plt.axis('off')  # Отключаем оси\n",
        "plt.show()\n"
      ]
    }
  ],
  "metadata": {
    "colab": {
      "provenance": []
    },
    "kernelspec": {
      "display_name": "Python 3",
      "language": "python",
      "name": "python3"
    },
    "language_info": {
      "codemirror_mode": {
        "name": "ipython",
        "version": 3
      },
      "file_extension": ".py",
      "mimetype": "text/x-python",
      "name": "python",
      "nbconvert_exporter": "python",
      "pygments_lexer": "ipython3",
      "version": "3.8.16"
    }
  },
  "nbformat": 4,
  "nbformat_minor": 0
}
